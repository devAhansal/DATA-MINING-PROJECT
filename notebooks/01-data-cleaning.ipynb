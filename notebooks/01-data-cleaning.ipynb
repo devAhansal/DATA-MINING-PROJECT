{
 "cells": [
  {
   "cell_type": "code",
   "execution_count": 2,
   "metadata": {},
   "outputs": [
    {
     "name": "stdout",
     "output_type": "stream",
     "text": [
      "c:\\Users\\Beeclick\\Documents\\MIAAD\\S3\\Data Mining\\Project\\data-mining-project\\DataMiningEnv\\Scripts\\python.exe\n"
     ]
    }
   ],
   "source": [
    "import sys\n",
    "print(sys.executable)"
   ]
  },
  {
   "cell_type": "markdown",
   "metadata": {},
   "source": [
    "### Import des bibliothèques"
   ]
  },
  {
   "cell_type": "code",
   "execution_count": 3,
   "metadata": {},
   "outputs": [],
   "source": [
    "import numpy as np\n",
    "import pandas as pd\n",
    "import matplotlib.pyplot as plt\n",
    "import seaborn as sns\n",
    "sns.set()"
   ]
  },
  {
   "cell_type": "markdown",
   "metadata": {},
   "source": [
    "### Chargement des données brutes"
   ]
  },
  {
   "cell_type": "code",
   "execution_count": 4,
   "metadata": {},
   "outputs": [],
   "source": [
    "clients = pd.read_csv(\"../data/raw/Clients.csv\")\n",
    "catalogue = pd.read_csv(\"../data/raw/Catalogue.csv\")\n",
    "immatriculations = pd.read_csv(\"../data/raw/immatriculations_small.csv\")\n",
    "marketing = pd.read_csv(\"../data/raw/Marketing.csv\")"
   ]
  },
  {
   "cell_type": "markdown",
   "metadata": {},
   "source": [
    "# Nettoyage des données pour les clients"
   ]
  },
  {
   "cell_type": "code",
   "execution_count": 7,
   "metadata": {},
   "outputs": [
    {
     "name": "stdout",
     "output_type": "stream",
     "text": [
      "Aperçu des données brutes:\n"
     ]
    },
    {
     "data": {
      "text/html": [
       "<div>\n",
       "<style scoped>\n",
       "    .dataframe tbody tr th:only-of-type {\n",
       "        vertical-align: middle;\n",
       "    }\n",
       "\n",
       "    .dataframe tbody tr th {\n",
       "        vertical-align: top;\n",
       "    }\n",
       "\n",
       "    .dataframe thead th {\n",
       "        text-align: right;\n",
       "    }\n",
       "</style>\n",
       "<table border=\"1\" class=\"dataframe\">\n",
       "  <thead>\n",
       "    <tr style=\"text-align: right;\">\n",
       "      <th></th>\n",
       "      <th>age</th>\n",
       "      <th>sexe</th>\n",
       "      <th>taux</th>\n",
       "      <th>situationFamiliale</th>\n",
       "      <th>nbEnfantsAcharge</th>\n",
       "      <th>2eme voiture</th>\n",
       "      <th>immatriculation</th>\n",
       "    </tr>\n",
       "  </thead>\n",
       "  <tbody>\n",
       "    <tr>\n",
       "      <th>0</th>\n",
       "      <td>25</td>\n",
       "      <td>F</td>\n",
       "      <td>159</td>\n",
       "      <td>En Couple</td>\n",
       "      <td>2</td>\n",
       "      <td>false</td>\n",
       "      <td>3467 SB 72</td>\n",
       "    </tr>\n",
       "    <tr>\n",
       "      <th>1</th>\n",
       "      <td>53</td>\n",
       "      <td>M</td>\n",
       "      <td>594</td>\n",
       "      <td>En Couple</td>\n",
       "      <td>2</td>\n",
       "      <td>false</td>\n",
       "      <td>113 LY 42</td>\n",
       "    </tr>\n",
       "    <tr>\n",
       "      <th>2</th>\n",
       "      <td>20</td>\n",
       "      <td>F</td>\n",
       "      <td>949</td>\n",
       "      <td>En Couple</td>\n",
       "      <td>1</td>\n",
       "      <td>false</td>\n",
       "      <td>925 WK 87</td>\n",
       "    </tr>\n",
       "    <tr>\n",
       "      <th>3</th>\n",
       "      <td>29</td>\n",
       "      <td>M</td>\n",
       "      <td>571</td>\n",
       "      <td>En Couple</td>\n",
       "      <td>2</td>\n",
       "      <td>false</td>\n",
       "      <td>3279 RV 81</td>\n",
       "    </tr>\n",
       "    <tr>\n",
       "      <th>4</th>\n",
       "      <td>47</td>\n",
       "      <td>M</td>\n",
       "      <td>502</td>\n",
       "      <td>En Couple</td>\n",
       "      <td>1</td>\n",
       "      <td>false</td>\n",
       "      <td>82 RZ 54</td>\n",
       "    </tr>\n",
       "  </tbody>\n",
       "</table>\n",
       "</div>"
      ],
      "text/plain": [
       "  age sexe taux situationFamiliale nbEnfantsAcharge 2eme voiture  \\\n",
       "0  25    F  159          En Couple                2        false   \n",
       "1  53    M  594          En Couple                2        false   \n",
       "2  20    F  949          En Couple                1        false   \n",
       "3  29    M  571          En Couple                2        false   \n",
       "4  47    M  502          En Couple                1        false   \n",
       "\n",
       "  immatriculation  \n",
       "0      3467 SB 72  \n",
       "1       113 LY 42  \n",
       "2       925 WK 87  \n",
       "3      3279 RV 81  \n",
       "4        82 RZ 54  "
      ]
     },
     "execution_count": 7,
     "metadata": {},
     "output_type": "execute_result"
    }
   ],
   "source": [
    "# Affichage des premières lignes\n",
    "print(\"Aperçu des données brutes:\")\n",
    "clients.head()"
   ]
  },
  {
   "cell_type": "code",
   "execution_count": 13,
   "metadata": {},
   "outputs": [],
   "source": [
    "# Remplacer les valeurs incorrectes (erreurs de saisie) par NaN\n",
    "clients.replace(['?', 'N/D', ' '], pd.NA, inplace=True)"
   ]
  },
  {
   "cell_type": "code",
   "execution_count": 14,
   "metadata": {},
   "outputs": [
    {
     "name": "stdout",
     "output_type": "stream",
     "text": [
      "\n",
      "Informations sur les données:\n",
      "<class 'pandas.core.frame.DataFrame'>\n",
      "RangeIndex: 100000 entries, 0 to 99999\n",
      "Data columns (total 7 columns):\n",
      " #   Column              Non-Null Count   Dtype \n",
      "---  ------              --------------   ----- \n",
      " 0   age                 99807 non-null   object\n",
      " 1   sexe                99709 non-null   object\n",
      " 2   taux                99806 non-null   object\n",
      " 3   situationFamiliale  99681 non-null   object\n",
      " 4   nbEnfantsAcharge    99800 non-null   object\n",
      " 5   2eme voiture        99780 non-null   object\n",
      " 6   immatriculation     100000 non-null  object\n",
      "dtypes: object(7)\n",
      "memory usage: 5.3+ MB\n",
      "\n",
      "Valeurs manquantes par colonne:\n"
     ]
    },
    {
     "data": {
      "text/plain": [
       "age                   193\n",
       "sexe                  291\n",
       "taux                  194\n",
       "situationFamiliale    319\n",
       "nbEnfantsAcharge      200\n",
       "2eme voiture          220\n",
       "immatriculation         0\n",
       "dtype: int64"
      ]
     },
     "execution_count": 14,
     "metadata": {},
     "output_type": "execute_result"
    }
   ],
   "source": [
    "# Vérification des types de données et des valeurs manquantes\n",
    "print(\"\\nInformations sur les données:\")\n",
    "clients.info()\n",
    "print(\"\\nValeurs manquantes par colonne:\")\n",
    "clients.isnull().sum()"
   ]
  },
  {
   "cell_type": "code",
   "execution_count": 58,
   "metadata": {},
   "outputs": [],
   "source": [
    "# Conversion en type numérique en remplaçant les valeurs non convertibles par NaN\n",
    "clients['age'] =  pd.to_numeric(clients['age'], errors='coerce')\n",
    "clients['taux'] = pd.to_numeric(clients['taux'], errors='coerce')\n",
    "clients['nbEnfantsAcharge'] = pd.to_numeric(clients['nbEnfantsAcharge'], errors='coerce')"
   ]
  },
  {
   "cell_type": "code",
   "execution_count": 35,
   "metadata": {},
   "outputs": [
    {
     "name": "stdout",
     "output_type": "stream",
     "text": [
      "\n",
      "Nombre de doublons : 0\n"
     ]
    }
   ],
   "source": [
    "# Recherche des doublons\n",
    "duplicates = clients.duplicated().sum()\n",
    "print(f\"\\nNombre de doublons : {duplicates}\")"
   ]
  },
  {
   "cell_type": "code",
   "execution_count": 11,
   "metadata": {},
   "outputs": [],
   "source": [
    "# Suppression des doublons\n",
    "# df = df.drop_duplicates()"
   ]
  },
  {
   "cell_type": "code",
   "execution_count": 29,
   "metadata": {},
   "outputs": [
    {
     "name": "stdout",
     "output_type": "stream",
     "text": [
      "sexe\n",
      "M           68283\n",
      "F           29388\n",
      "Homme         743\n",
      "Masculin      684\n",
      "Féminin       322\n",
      "Femme         289\n",
      "Name: count, dtype: int64\n",
      "\n",
      "situationFamiliale\n",
      "En Couple      63855\n",
      "Célibataire    29841\n",
      "Seule           4989\n",
      "Marié(e)         664\n",
      "Seul             282\n",
      "Divorcée          50\n",
      "Name: count, dtype: int64\n",
      "\n",
      "2eme voiture\n",
      "false    86845\n",
      "true     12935\n",
      "Name: count, dtype: int64\n",
      "\n",
      "immatriculation\n",
      "835 JQ 59     2\n",
      "4229 XL 63    2\n",
      "7084 RU 46    2\n",
      "3648 SM 17    2\n",
      "3142 RV 53    2\n",
      "             ..\n",
      "5659 SO 55    1\n",
      "6760 YM 11    1\n",
      "385 UN 57     1\n",
      "4056 HI 13    1\n",
      "3467 SB 72    1\n",
      "Name: count, Length: 99989, dtype: int64\n",
      "\n"
     ]
    }
   ],
   "source": [
    "# Compter les occurrences pour chaque colonne de type 'object'\n",
    "for col in clients.columns:\n",
    "    if clients[col].dtype == 'object':\n",
    "        print(clients[col].value_counts())\n",
    "        print()\n",
    "\n",
    "# or\n",
    "# clients['sexe'].unique() #..."
   ]
  },
  {
   "cell_type": "code",
   "execution_count": 30,
   "metadata": {},
   "outputs": [],
   "source": [
    "# Remplacer les valeurs dans la colonne \"sexe\"\n",
    "clients['sexe'] = clients['sexe'].replace({\n",
    "    'Homme': 'M',\n",
    "    'Masculin': 'M',\n",
    "    'Féminin': 'F',\n",
    "    'Femme': 'F',\n",
    "})"
   ]
  },
  {
   "cell_type": "code",
   "execution_count": 31,
   "metadata": {},
   "outputs": [],
   "source": [
    "# Remplacer les valeurs dans la colonne \"sexe\"\n",
    "clients['situationFamiliale'] = clients['situationFamiliale'].replace({\n",
    "    'Seule': 'Célibataire',\n",
    "    'Seul': 'Célibataire',\n",
    "})"
   ]
  },
  {
   "cell_type": "code",
   "execution_count": 34,
   "metadata": {},
   "outputs": [
    {
     "data": {
      "text/html": [
       "<div>\n",
       "<style scoped>\n",
       "    .dataframe tbody tr th:only-of-type {\n",
       "        vertical-align: middle;\n",
       "    }\n",
       "\n",
       "    .dataframe tbody tr th {\n",
       "        vertical-align: top;\n",
       "    }\n",
       "\n",
       "    .dataframe thead th {\n",
       "        text-align: right;\n",
       "    }\n",
       "</style>\n",
       "<table border=\"1\" class=\"dataframe\">\n",
       "  <thead>\n",
       "    <tr style=\"text-align: right;\">\n",
       "      <th></th>\n",
       "      <th>sexe</th>\n",
       "      <th>situationFamiliale</th>\n",
       "      <th>2eme voiture</th>\n",
       "      <th>immatriculation</th>\n",
       "    </tr>\n",
       "  </thead>\n",
       "  <tbody>\n",
       "    <tr>\n",
       "      <th>count</th>\n",
       "      <td>99709</td>\n",
       "      <td>99681</td>\n",
       "      <td>99780</td>\n",
       "      <td>100000</td>\n",
       "    </tr>\n",
       "    <tr>\n",
       "      <th>unique</th>\n",
       "      <td>2</td>\n",
       "      <td>4</td>\n",
       "      <td>2</td>\n",
       "      <td>99989</td>\n",
       "    </tr>\n",
       "    <tr>\n",
       "      <th>top</th>\n",
       "      <td>M</td>\n",
       "      <td>En Couple</td>\n",
       "      <td>false</td>\n",
       "      <td>835 JQ 59</td>\n",
       "    </tr>\n",
       "    <tr>\n",
       "      <th>freq</th>\n",
       "      <td>69710</td>\n",
       "      <td>63855</td>\n",
       "      <td>86845</td>\n",
       "      <td>2</td>\n",
       "    </tr>\n",
       "  </tbody>\n",
       "</table>\n",
       "</div>"
      ],
      "text/plain": [
       "         sexe situationFamiliale 2eme voiture immatriculation\n",
       "count   99709              99681        99780          100000\n",
       "unique      2                  4            2           99989\n",
       "top         M          En Couple        false       835 JQ 59\n",
       "freq    69710              63855        86845               2"
      ]
     },
     "execution_count": 34,
     "metadata": {},
     "output_type": "execute_result"
    }
   ],
   "source": [
    "clients.describe(include='object')"
   ]
  },
  {
   "cell_type": "code",
   "execution_count": 33,
   "metadata": {},
   "outputs": [
    {
     "data": {
      "text/html": [
       "<div>\n",
       "<style scoped>\n",
       "    .dataframe tbody tr th:only-of-type {\n",
       "        vertical-align: middle;\n",
       "    }\n",
       "\n",
       "    .dataframe tbody tr th {\n",
       "        vertical-align: top;\n",
       "    }\n",
       "\n",
       "    .dataframe thead th {\n",
       "        text-align: right;\n",
       "    }\n",
       "</style>\n",
       "<table border=\"1\" class=\"dataframe\">\n",
       "  <thead>\n",
       "    <tr style=\"text-align: right;\">\n",
       "      <th></th>\n",
       "      <th>age</th>\n",
       "      <th>taux</th>\n",
       "      <th>nbEnfantsAcharge</th>\n",
       "    </tr>\n",
       "  </thead>\n",
       "  <tbody>\n",
       "    <tr>\n",
       "      <th>count</th>\n",
       "      <td>99807.000000</td>\n",
       "      <td>99806.000000</td>\n",
       "      <td>99800.000000</td>\n",
       "    </tr>\n",
       "    <tr>\n",
       "      <th>mean</th>\n",
       "      <td>43.733335</td>\n",
       "      <td>607.800503</td>\n",
       "      <td>1.245150</td>\n",
       "    </tr>\n",
       "    <tr>\n",
       "      <th>std</th>\n",
       "      <td>18.355480</td>\n",
       "      <td>336.279121</td>\n",
       "      <td>1.388624</td>\n",
       "    </tr>\n",
       "    <tr>\n",
       "      <th>min</th>\n",
       "      <td>-1.000000</td>\n",
       "      <td>-1.000000</td>\n",
       "      <td>-1.000000</td>\n",
       "    </tr>\n",
       "    <tr>\n",
       "      <th>25%</th>\n",
       "      <td>28.000000</td>\n",
       "      <td>420.000000</td>\n",
       "      <td>0.000000</td>\n",
       "    </tr>\n",
       "    <tr>\n",
       "      <th>50%</th>\n",
       "      <td>42.000000</td>\n",
       "      <td>520.000000</td>\n",
       "      <td>1.000000</td>\n",
       "    </tr>\n",
       "    <tr>\n",
       "      <th>75%</th>\n",
       "      <td>57.000000</td>\n",
       "      <td>827.000000</td>\n",
       "      <td>2.000000</td>\n",
       "    </tr>\n",
       "    <tr>\n",
       "      <th>max</th>\n",
       "      <td>84.000000</td>\n",
       "      <td>1399.000000</td>\n",
       "      <td>4.000000</td>\n",
       "    </tr>\n",
       "  </tbody>\n",
       "</table>\n",
       "</div>"
      ],
      "text/plain": [
       "                age          taux  nbEnfantsAcharge\n",
       "count  99807.000000  99806.000000      99800.000000\n",
       "mean      43.733335    607.800503          1.245150\n",
       "std       18.355480    336.279121          1.388624\n",
       "min       -1.000000     -1.000000         -1.000000\n",
       "25%       28.000000    420.000000          0.000000\n",
       "50%       42.000000    520.000000          1.000000\n",
       "75%       57.000000    827.000000          2.000000\n",
       "max       84.000000   1399.000000          4.000000"
      ]
     },
     "execution_count": 33,
     "metadata": {},
     "output_type": "execute_result"
    }
   ],
   "source": [
    "clients.describe()"
   ]
  },
  {
   "cell_type": "markdown",
   "metadata": {},
   "source": [
    "### Gérer les valeurs manquantes"
   ]
  },
  {
   "cell_type": "code",
   "execution_count": 39,
   "metadata": {},
   "outputs": [],
   "source": [
    "# Création d'un nouveau dataframe pour Imputation et Suppression\n",
    "clients_imputed = clients.copy()\n",
    "clients_dropped = clients.copy()"
   ]
  },
  {
   "cell_type": "markdown",
   "metadata": {},
   "source": [
    "#### A-Remplacez les valeurs manquantes par mean or mode or median"
   ]
  },
  {
   "cell_type": "code",
   "execution_count": 40,
   "metadata": {},
   "outputs": [],
   "source": [
    "# Remplacement des valeurs manquantes pour les colonnes numériques par la médiane\n",
    "clients_imputed['age'] = clients_imputed['age'].fillna(clients_imputed['age'].median())\n",
    "clients_imputed['taux'] = clients_imputed['taux'].fillna(clients_imputed['taux'].median())\n",
    "clients_imputed['nbEnfantsAcharge'] = clients_imputed['nbEnfantsAcharge'].fillna(clients_imputed['nbEnfantsAcharge'].median())"
   ]
  },
  {
   "cell_type": "code",
   "execution_count": 41,
   "metadata": {},
   "outputs": [],
   "source": [
    "# Remplacement des valeurs manquantes pour les colonnes catégorielles par la valeur la plus fréquente\n",
    "clients_imputed['sexe'] = clients_imputed['sexe'].fillna(clients_imputed['sexe'].mode()[0])\n",
    "clients_imputed['situationFamiliale'] = clients_imputed['situationFamiliale'].fillna(clients_imputed['situationFamiliale'].mode()[0])\n",
    "clients_imputed['2eme voiture'] = clients_imputed['2eme voiture'].fillna(clients_imputed['2eme voiture'].mode()[0])"
   ]
  },
  {
   "cell_type": "code",
   "execution_count": 42,
   "metadata": {},
   "outputs": [
    {
     "data": {
      "text/html": [
       "<div>\n",
       "<style scoped>\n",
       "    .dataframe tbody tr th:only-of-type {\n",
       "        vertical-align: middle;\n",
       "    }\n",
       "\n",
       "    .dataframe tbody tr th {\n",
       "        vertical-align: top;\n",
       "    }\n",
       "\n",
       "    .dataframe thead th {\n",
       "        text-align: right;\n",
       "    }\n",
       "</style>\n",
       "<table border=\"1\" class=\"dataframe\">\n",
       "  <thead>\n",
       "    <tr style=\"text-align: right;\">\n",
       "      <th></th>\n",
       "      <th>sexe</th>\n",
       "      <th>situationFamiliale</th>\n",
       "      <th>2eme voiture</th>\n",
       "      <th>immatriculation</th>\n",
       "    </tr>\n",
       "  </thead>\n",
       "  <tbody>\n",
       "    <tr>\n",
       "      <th>count</th>\n",
       "      <td>100000</td>\n",
       "      <td>100000</td>\n",
       "      <td>100000</td>\n",
       "      <td>100000</td>\n",
       "    </tr>\n",
       "    <tr>\n",
       "      <th>unique</th>\n",
       "      <td>2</td>\n",
       "      <td>4</td>\n",
       "      <td>2</td>\n",
       "      <td>99989</td>\n",
       "    </tr>\n",
       "    <tr>\n",
       "      <th>top</th>\n",
       "      <td>M</td>\n",
       "      <td>En Couple</td>\n",
       "      <td>false</td>\n",
       "      <td>835 JQ 59</td>\n",
       "    </tr>\n",
       "    <tr>\n",
       "      <th>freq</th>\n",
       "      <td>70001</td>\n",
       "      <td>64174</td>\n",
       "      <td>87065</td>\n",
       "      <td>2</td>\n",
       "    </tr>\n",
       "  </tbody>\n",
       "</table>\n",
       "</div>"
      ],
      "text/plain": [
       "          sexe situationFamiliale 2eme voiture immatriculation\n",
       "count   100000             100000       100000          100000\n",
       "unique       2                  4            2           99989\n",
       "top          M          En Couple        false       835 JQ 59\n",
       "freq     70001              64174        87065               2"
      ]
     },
     "execution_count": 42,
     "metadata": {},
     "output_type": "execute_result"
    }
   ],
   "source": [
    "clients_imputed.describe(include='object')"
   ]
  },
  {
   "cell_type": "code",
   "execution_count": 44,
   "metadata": {},
   "outputs": [
    {
     "data": {
      "text/html": [
       "<div>\n",
       "<style scoped>\n",
       "    .dataframe tbody tr th:only-of-type {\n",
       "        vertical-align: middle;\n",
       "    }\n",
       "\n",
       "    .dataframe tbody tr th {\n",
       "        vertical-align: top;\n",
       "    }\n",
       "\n",
       "    .dataframe thead th {\n",
       "        text-align: right;\n",
       "    }\n",
       "</style>\n",
       "<table border=\"1\" class=\"dataframe\">\n",
       "  <thead>\n",
       "    <tr style=\"text-align: right;\">\n",
       "      <th></th>\n",
       "      <th>age</th>\n",
       "      <th>taux</th>\n",
       "      <th>nbEnfantsAcharge</th>\n",
       "    </tr>\n",
       "  </thead>\n",
       "  <tbody>\n",
       "    <tr>\n",
       "      <th>count</th>\n",
       "      <td>100000.000000</td>\n",
       "      <td>100000.000000</td>\n",
       "      <td>100000.000000</td>\n",
       "    </tr>\n",
       "    <tr>\n",
       "      <th>mean</th>\n",
       "      <td>43.729990</td>\n",
       "      <td>607.630170</td>\n",
       "      <td>1.244660</td>\n",
       "    </tr>\n",
       "    <tr>\n",
       "      <th>std</th>\n",
       "      <td>18.337916</td>\n",
       "      <td>335.974983</td>\n",
       "      <td>1.387278</td>\n",
       "    </tr>\n",
       "    <tr>\n",
       "      <th>min</th>\n",
       "      <td>-1.000000</td>\n",
       "      <td>-1.000000</td>\n",
       "      <td>-1.000000</td>\n",
       "    </tr>\n",
       "    <tr>\n",
       "      <th>25%</th>\n",
       "      <td>28.000000</td>\n",
       "      <td>420.000000</td>\n",
       "      <td>0.000000</td>\n",
       "    </tr>\n",
       "    <tr>\n",
       "      <th>50%</th>\n",
       "      <td>42.000000</td>\n",
       "      <td>520.000000</td>\n",
       "      <td>1.000000</td>\n",
       "    </tr>\n",
       "    <tr>\n",
       "      <th>75%</th>\n",
       "      <td>57.000000</td>\n",
       "      <td>826.000000</td>\n",
       "      <td>2.000000</td>\n",
       "    </tr>\n",
       "    <tr>\n",
       "      <th>max</th>\n",
       "      <td>84.000000</td>\n",
       "      <td>1399.000000</td>\n",
       "      <td>4.000000</td>\n",
       "    </tr>\n",
       "  </tbody>\n",
       "</table>\n",
       "</div>"
      ],
      "text/plain": [
       "                 age           taux  nbEnfantsAcharge\n",
       "count  100000.000000  100000.000000     100000.000000\n",
       "mean       43.729990     607.630170          1.244660\n",
       "std        18.337916     335.974983          1.387278\n",
       "min        -1.000000      -1.000000         -1.000000\n",
       "25%        28.000000     420.000000          0.000000\n",
       "50%        42.000000     520.000000          1.000000\n",
       "75%        57.000000     826.000000          2.000000\n",
       "max        84.000000    1399.000000          4.000000"
      ]
     },
     "execution_count": 44,
     "metadata": {},
     "output_type": "execute_result"
    }
   ],
   "source": [
    "clients_imputed.describe()"
   ]
  },
  {
   "cell_type": "markdown",
   "metadata": {},
   "source": [
    "#### B-Supprimer les lignes avec des valeurs manquantes"
   ]
  },
  {
   "cell_type": "code",
   "execution_count": 50,
   "metadata": {},
   "outputs": [
    {
     "name": "stdout",
     "output_type": "stream",
     "text": [
      "age                   0.193\n",
      "sexe                  0.291\n",
      "taux                  0.194\n",
      "situationFamiliale    0.319\n",
      "nbEnfantsAcharge      0.200\n",
      "2eme voiture          0.220\n",
      "immatriculation       0.000\n",
      "dtype: float64\n"
     ]
    }
   ],
   "source": [
    "# Pourcentage de valeurs manquantes\n",
    "print(clients.isnull().sum() / len(clients) * 100)  "
   ]
  },
  {
   "cell_type": "code",
   "execution_count": 51,
   "metadata": {},
   "outputs": [
    {
     "name": "stdout",
     "output_type": "stream",
     "text": [
      "age                   0\n",
      "sexe                  0\n",
      "taux                  0\n",
      "situationFamiliale    0\n",
      "nbEnfantsAcharge      0\n",
      "2eme voiture          0\n",
      "immatriculation       0\n",
      "dtype: int64\n"
     ]
    }
   ],
   "source": [
    "# Suppression des lignes avec des valeurs manquantes\n",
    "clients_dropped = clients_dropped.dropna()\n",
    "\n",
    "# Vérification des valeurs manquantes dans le nouveau dataframe\n",
    "print(clients_dropped.isnull().sum())\n"
   ]
  },
  {
   "cell_type": "markdown",
   "metadata": {},
   "source": [
    "### Sauvegarde des données nettoyées"
   ]
  },
  {
   "cell_type": "code",
   "execution_count": 55,
   "metadata": {},
   "outputs": [
    {
     "name": "stdout",
     "output_type": "stream",
     "text": [
      "\n",
      "Données nettoyées sauvegardées dans 'clients_cleaned.csv'\n"
     ]
    }
   ],
   "source": [
    "# J'utilise le dataframe clients_imputed pour le premier essai\n",
    "clients_imputed.to_csv('../data/processed/clients_cleaned.csv', index=False)\n",
    "print(\"\\nDonnées nettoyées sauvegardées dans 'clients_cleaned.csv'\")"
   ]
  },
  {
   "cell_type": "code",
   "execution_count": null,
   "metadata": {},
   "outputs": [],
   "source": []
  }
 ],
 "metadata": {
  "kernelspec": {
   "display_name": "DataMiningEnv",
   "language": "python",
   "name": "python3"
  },
  "language_info": {
   "codemirror_mode": {
    "name": "ipython",
    "version": 3
   },
   "file_extension": ".py",
   "mimetype": "text/x-python",
   "name": "python",
   "nbconvert_exporter": "python",
   "pygments_lexer": "ipython3",
   "version": "3.12.4"
  }
 },
 "nbformat": 4,
 "nbformat_minor": 2
}
