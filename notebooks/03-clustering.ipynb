{
 "cells": [
  {
   "cell_type": "markdown",
   "metadata": {},
   "source": [
    "### Import des bibliothèques"
   ]
  },
  {
   "cell_type": "code",
   "execution_count": 2,
   "metadata": {},
   "outputs": [],
   "source": [
    "import numpy as np\n",
    "import matplotlib.pyplot as plt\n",
    "import pandas as pd\n",
    "import seaborn as sns\n",
    "sns.set()\n",
    "\n",
    "\n",
    "from sklearn.cluster import KMeans\n",
    "from sklearn.manifold import TSNE\n",
    "\n",
    "# !pip install yellowbrick\n",
    "from yellowbrick.cluster import KElbowVisualizer\n",
    "from sklearn.metrics import silhouette_score\n",
    "from sklearn.preprocessing import OrdinalEncoder\n",
    "\n",
    "\n",
    "from sklearn.preprocessing import LabelEncoder\n",
    "\n",
    "from sklearn.decomposition import PCA"
   ]
  },
  {
   "cell_type": "markdown",
   "metadata": {},
   "source": [
    "### Chargement des données "
   ]
  },
  {
   "cell_type": "code",
   "execution_count": 3,
   "metadata": {},
   "outputs": [],
   "source": [
    "catalogue = pd.read_csv(\"../data/processed/catalogue_processed.csv\")\n"
   ]
  },
  {
   "cell_type": "markdown",
   "metadata": {},
   "source": [
    "### Prétraitement des données"
   ]
  },
  {
   "cell_type": "code",
   "execution_count": 4,
   "metadata": {},
   "outputs": [
    {
     "data": {
      "text/html": [
       "<div>\n",
       "<style scoped>\n",
       "    .dataframe tbody tr th:only-of-type {\n",
       "        vertical-align: middle;\n",
       "    }\n",
       "\n",
       "    .dataframe tbody tr th {\n",
       "        vertical-align: top;\n",
       "    }\n",
       "\n",
       "    .dataframe thead th {\n",
       "        text-align: right;\n",
       "    }\n",
       "</style>\n",
       "<table border=\"1\" class=\"dataframe\">\n",
       "  <thead>\n",
       "    <tr style=\"text-align: right;\">\n",
       "      <th></th>\n",
       "      <th>marque</th>\n",
       "      <th>nom</th>\n",
       "      <th>puissance</th>\n",
       "      <th>longueur</th>\n",
       "      <th>nbPlaces</th>\n",
       "      <th>nbPortes</th>\n",
       "      <th>couleur</th>\n",
       "      <th>occasion</th>\n",
       "      <th>prix</th>\n",
       "    </tr>\n",
       "  </thead>\n",
       "  <tbody>\n",
       "    <tr>\n",
       "      <th>0</th>\n",
       "      <td>Volvo</td>\n",
       "      <td>S80 T6</td>\n",
       "      <td>272</td>\n",
       "      <td>très longue</td>\n",
       "      <td>5</td>\n",
       "      <td>5</td>\n",
       "      <td>blanc</td>\n",
       "      <td>False</td>\n",
       "      <td>50500</td>\n",
       "    </tr>\n",
       "    <tr>\n",
       "      <th>1</th>\n",
       "      <td>Volvo</td>\n",
       "      <td>S80 T6</td>\n",
       "      <td>272</td>\n",
       "      <td>très longue</td>\n",
       "      <td>5</td>\n",
       "      <td>5</td>\n",
       "      <td>noir</td>\n",
       "      <td>False</td>\n",
       "      <td>50500</td>\n",
       "    </tr>\n",
       "    <tr>\n",
       "      <th>2</th>\n",
       "      <td>Volvo</td>\n",
       "      <td>S80 T6</td>\n",
       "      <td>272</td>\n",
       "      <td>très longue</td>\n",
       "      <td>5</td>\n",
       "      <td>5</td>\n",
       "      <td>rouge</td>\n",
       "      <td>False</td>\n",
       "      <td>50500</td>\n",
       "    </tr>\n",
       "    <tr>\n",
       "      <th>3</th>\n",
       "      <td>Volvo</td>\n",
       "      <td>S80 T6</td>\n",
       "      <td>272</td>\n",
       "      <td>très longue</td>\n",
       "      <td>5</td>\n",
       "      <td>5</td>\n",
       "      <td>gris</td>\n",
       "      <td>True</td>\n",
       "      <td>35350</td>\n",
       "    </tr>\n",
       "    <tr>\n",
       "      <th>4</th>\n",
       "      <td>Volvo</td>\n",
       "      <td>S80 T6</td>\n",
       "      <td>272</td>\n",
       "      <td>très longue</td>\n",
       "      <td>5</td>\n",
       "      <td>5</td>\n",
       "      <td>bleu</td>\n",
       "      <td>True</td>\n",
       "      <td>35350</td>\n",
       "    </tr>\n",
       "  </tbody>\n",
       "</table>\n",
       "</div>"
      ],
      "text/plain": [
       "  marque     nom  puissance     longueur  nbPlaces  nbPortes couleur  \\\n",
       "0  Volvo  S80 T6        272  très longue         5         5   blanc   \n",
       "1  Volvo  S80 T6        272  très longue         5         5    noir   \n",
       "2  Volvo  S80 T6        272  très longue         5         5   rouge   \n",
       "3  Volvo  S80 T6        272  très longue         5         5    gris   \n",
       "4  Volvo  S80 T6        272  très longue         5         5    bleu   \n",
       "\n",
       "   occasion   prix  \n",
       "0     False  50500  \n",
       "1     False  50500  \n",
       "2     False  50500  \n",
       "3      True  35350  \n",
       "4      True  35350  "
      ]
     },
     "execution_count": 4,
     "metadata": {},
     "output_type": "execute_result"
    }
   ],
   "source": [
    "catalogue.head()"
   ]
  },
  {
   "cell_type": "code",
   "execution_count": 5,
   "metadata": {},
   "outputs": [
    {
     "data": {
      "text/html": [
       "<div>\n",
       "<style scoped>\n",
       "    .dataframe tbody tr th:only-of-type {\n",
       "        vertical-align: middle;\n",
       "    }\n",
       "\n",
       "    .dataframe tbody tr th {\n",
       "        vertical-align: top;\n",
       "    }\n",
       "\n",
       "    .dataframe thead th {\n",
       "        text-align: right;\n",
       "    }\n",
       "</style>\n",
       "<table border=\"1\" class=\"dataframe\">\n",
       "  <thead>\n",
       "    <tr style=\"text-align: right;\">\n",
       "      <th></th>\n",
       "      <th>puissance</th>\n",
       "      <th>nbPlaces</th>\n",
       "      <th>nbPortes</th>\n",
       "      <th>prix</th>\n",
       "    </tr>\n",
       "  </thead>\n",
       "  <tbody>\n",
       "    <tr>\n",
       "      <th>count</th>\n",
       "      <td>270.000000</td>\n",
       "      <td>270.000000</td>\n",
       "      <td>270.000000</td>\n",
       "      <td>270.000000</td>\n",
       "    </tr>\n",
       "    <tr>\n",
       "      <th>mean</th>\n",
       "      <td>157.592593</td>\n",
       "      <td>5.222222</td>\n",
       "      <td>4.814815</td>\n",
       "      <td>26668.055556</td>\n",
       "    </tr>\n",
       "    <tr>\n",
       "      <th>std</th>\n",
       "      <td>90.551289</td>\n",
       "      <td>0.629707</td>\n",
       "      <td>0.580798</td>\n",
       "      <td>19050.121112</td>\n",
       "    </tr>\n",
       "    <tr>\n",
       "      <th>min</th>\n",
       "      <td>55.000000</td>\n",
       "      <td>5.000000</td>\n",
       "      <td>3.000000</td>\n",
       "      <td>7500.000000</td>\n",
       "    </tr>\n",
       "    <tr>\n",
       "      <th>25%</th>\n",
       "      <td>109.000000</td>\n",
       "      <td>5.000000</td>\n",
       "      <td>5.000000</td>\n",
       "      <td>16029.000000</td>\n",
       "    </tr>\n",
       "    <tr>\n",
       "      <th>50%</th>\n",
       "      <td>147.000000</td>\n",
       "      <td>5.000000</td>\n",
       "      <td>5.000000</td>\n",
       "      <td>20597.500000</td>\n",
       "    </tr>\n",
       "    <tr>\n",
       "      <th>75%</th>\n",
       "      <td>170.000000</td>\n",
       "      <td>5.000000</td>\n",
       "      <td>5.000000</td>\n",
       "      <td>30000.000000</td>\n",
       "    </tr>\n",
       "    <tr>\n",
       "      <th>max</th>\n",
       "      <td>507.000000</td>\n",
       "      <td>7.000000</td>\n",
       "      <td>5.000000</td>\n",
       "      <td>101300.000000</td>\n",
       "    </tr>\n",
       "  </tbody>\n",
       "</table>\n",
       "</div>"
      ],
      "text/plain": [
       "        puissance    nbPlaces    nbPortes           prix\n",
       "count  270.000000  270.000000  270.000000     270.000000\n",
       "mean   157.592593    5.222222    4.814815   26668.055556\n",
       "std     90.551289    0.629707    0.580798   19050.121112\n",
       "min     55.000000    5.000000    3.000000    7500.000000\n",
       "25%    109.000000    5.000000    5.000000   16029.000000\n",
       "50%    147.000000    5.000000    5.000000   20597.500000\n",
       "75%    170.000000    5.000000    5.000000   30000.000000\n",
       "max    507.000000    7.000000    5.000000  101300.000000"
      ]
     },
     "execution_count": 5,
     "metadata": {},
     "output_type": "execute_result"
    }
   ],
   "source": [
    "catalogue.describe()"
   ]
  },
  {
   "cell_type": "code",
   "execution_count": 6,
   "metadata": {},
   "outputs": [],
   "source": [
    "# Séparer les voitures neuves et d'occasion\n",
    "catalogue_new      = catalogue[catalogue[\"occasion\"] == False]\n",
    "catalogue_occasion = catalogue[catalogue[\"occasion\"] == True]"
   ]
  },
  {
   "cell_type": "code",
   "execution_count": 7,
   "metadata": {},
   "outputs": [
    {
     "data": {
      "text/html": [
       "<div>\n",
       "<style scoped>\n",
       "    .dataframe tbody tr th:only-of-type {\n",
       "        vertical-align: middle;\n",
       "    }\n",
       "\n",
       "    .dataframe tbody tr th {\n",
       "        vertical-align: top;\n",
       "    }\n",
       "\n",
       "    .dataframe thead th {\n",
       "        text-align: right;\n",
       "    }\n",
       "</style>\n",
       "<table border=\"1\" class=\"dataframe\">\n",
       "  <thead>\n",
       "    <tr style=\"text-align: right;\">\n",
       "      <th></th>\n",
       "      <th>puissance</th>\n",
       "      <th>nbPlaces</th>\n",
       "      <th>nbPortes</th>\n",
       "      <th>prix</th>\n",
       "    </tr>\n",
       "  </thead>\n",
       "  <tbody>\n",
       "    <tr>\n",
       "      <th>count</th>\n",
       "      <td>32.000000</td>\n",
       "      <td>32.000000</td>\n",
       "      <td>32.000000</td>\n",
       "      <td>32.000000</td>\n",
       "    </tr>\n",
       "    <tr>\n",
       "      <th>mean</th>\n",
       "      <td>151.093750</td>\n",
       "      <td>5.250000</td>\n",
       "      <td>4.812500</td>\n",
       "      <td>28744.687500</td>\n",
       "    </tr>\n",
       "    <tr>\n",
       "      <th>std</th>\n",
       "      <td>87.607394</td>\n",
       "      <td>0.672022</td>\n",
       "      <td>0.592289</td>\n",
       "      <td>20997.041878</td>\n",
       "    </tr>\n",
       "    <tr>\n",
       "      <th>min</th>\n",
       "      <td>55.000000</td>\n",
       "      <td>5.000000</td>\n",
       "      <td>3.000000</td>\n",
       "      <td>7500.000000</td>\n",
       "    </tr>\n",
       "    <tr>\n",
       "      <th>25%</th>\n",
       "      <td>102.750000</td>\n",
       "      <td>5.000000</td>\n",
       "      <td>5.000000</td>\n",
       "      <td>17762.500000</td>\n",
       "    </tr>\n",
       "    <tr>\n",
       "      <th>50%</th>\n",
       "      <td>135.500000</td>\n",
       "      <td>5.000000</td>\n",
       "      <td>5.000000</td>\n",
       "      <td>24340.000000</td>\n",
       "    </tr>\n",
       "    <tr>\n",
       "      <th>75%</th>\n",
       "      <td>166.250000</td>\n",
       "      <td>5.000000</td>\n",
       "      <td>5.000000</td>\n",
       "      <td>30710.000000</td>\n",
       "    </tr>\n",
       "    <tr>\n",
       "      <th>max</th>\n",
       "      <td>507.000000</td>\n",
       "      <td>7.000000</td>\n",
       "      <td>5.000000</td>\n",
       "      <td>101300.000000</td>\n",
       "    </tr>\n",
       "  </tbody>\n",
       "</table>\n",
       "</div>"
      ],
      "text/plain": [
       "        puissance   nbPlaces   nbPortes           prix\n",
       "count   32.000000  32.000000  32.000000      32.000000\n",
       "mean   151.093750   5.250000   4.812500   28744.687500\n",
       "std     87.607394   0.672022   0.592289   20997.041878\n",
       "min     55.000000   5.000000   3.000000    7500.000000\n",
       "25%    102.750000   5.000000   5.000000   17762.500000\n",
       "50%    135.500000   5.000000   5.000000   24340.000000\n",
       "75%    166.250000   5.000000   5.000000   30710.000000\n",
       "max    507.000000   7.000000   5.000000  101300.000000"
      ]
     },
     "execution_count": 7,
     "metadata": {},
     "output_type": "execute_result"
    }
   ],
   "source": [
    "# Supprimer les doublons des voitures neuves en fonction du nom\n",
    "catalogue_new = catalogue_new.drop_duplicates(subset=['nom'])\n",
    "catalogue_new.describe()\n"
   ]
  },
  {
   "cell_type": "code",
   "execution_count": 8,
   "metadata": {},
   "outputs": [
    {
     "data": {
      "text/plain": [
       "array(['très longue', 'longue', 'courte', 'moyenne'], dtype=object)"
      ]
     },
     "execution_count": 8,
     "metadata": {},
     "output_type": "execute_result"
    }
   ],
   "source": [
    "catalogue_new['longueur'].unique()"
   ]
  },
  {
   "cell_type": "code",
   "execution_count": 9,
   "metadata": {},
   "outputs": [
    {
     "data": {
      "text/html": [
       "<div>\n",
       "<style scoped>\n",
       "    .dataframe tbody tr th:only-of-type {\n",
       "        vertical-align: middle;\n",
       "    }\n",
       "\n",
       "    .dataframe tbody tr th {\n",
       "        vertical-align: top;\n",
       "    }\n",
       "\n",
       "    .dataframe thead th {\n",
       "        text-align: right;\n",
       "    }\n",
       "</style>\n",
       "<table border=\"1\" class=\"dataframe\">\n",
       "  <thead>\n",
       "    <tr style=\"text-align: right;\">\n",
       "      <th></th>\n",
       "      <th>longueur</th>\n",
       "    </tr>\n",
       "  </thead>\n",
       "  <tbody>\n",
       "    <tr>\n",
       "      <th>0</th>\n",
       "      <td>3.0</td>\n",
       "    </tr>\n",
       "    <tr>\n",
       "      <th>10</th>\n",
       "      <td>2.0</td>\n",
       "    </tr>\n",
       "    <tr>\n",
       "      <th>21</th>\n",
       "      <td>0.0</td>\n",
       "    </tr>\n",
       "    <tr>\n",
       "      <th>35</th>\n",
       "      <td>1.0</td>\n",
       "    </tr>\n",
       "    <tr>\n",
       "      <th>45</th>\n",
       "      <td>1.0</td>\n",
       "    </tr>\n",
       "  </tbody>\n",
       "</table>\n",
       "</div>"
      ],
      "text/plain": [
       "    longueur\n",
       "0        3.0\n",
       "10       2.0\n",
       "21       0.0\n",
       "35       1.0\n",
       "45       1.0"
      ]
     },
     "execution_count": 9,
     "metadata": {},
     "output_type": "execute_result"
    }
   ],
   "source": [
    "# Définir l'ordre des catégories\n",
    "ordre_longueur = ['courte', 'moyenne', 'longue', 'très longue']\n",
    "\n",
    "# Initialiser le OrdinalEncoder avec l'ordre spécifié\n",
    "encoder = OrdinalEncoder(categories=[ordre_longueur])\n",
    "\n",
    "# Appliquer l'encodage ordinal à la colonne 'longueur'\n",
    "catalogue_new['longueur'] = encoder.fit_transform(catalogue_new[['longueur']])\n",
    "\n",
    "# Vérifier les résultats\n",
    "catalogue_new[['longueur']].head()"
   ]
  },
  {
   "cell_type": "code",
   "execution_count": 10,
   "metadata": {},
   "outputs": [
    {
     "data": {
      "text/html": [
       "<div>\n",
       "<style scoped>\n",
       "    .dataframe tbody tr th:only-of-type {\n",
       "        vertical-align: middle;\n",
       "    }\n",
       "\n",
       "    .dataframe tbody tr th {\n",
       "        vertical-align: top;\n",
       "    }\n",
       "\n",
       "    .dataframe thead th {\n",
       "        text-align: right;\n",
       "    }\n",
       "</style>\n",
       "<table border=\"1\" class=\"dataframe\">\n",
       "  <thead>\n",
       "    <tr style=\"text-align: right;\">\n",
       "      <th></th>\n",
       "      <th>marque</th>\n",
       "      <th>nom</th>\n",
       "      <th>puissance</th>\n",
       "      <th>longueur</th>\n",
       "      <th>nbPlaces</th>\n",
       "      <th>nbPortes</th>\n",
       "      <th>couleur</th>\n",
       "      <th>occasion</th>\n",
       "      <th>prix</th>\n",
       "    </tr>\n",
       "  </thead>\n",
       "  <tbody>\n",
       "    <tr>\n",
       "      <th>0</th>\n",
       "      <td>Volvo</td>\n",
       "      <td>S80 T6</td>\n",
       "      <td>272</td>\n",
       "      <td>3.0</td>\n",
       "      <td>5</td>\n",
       "      <td>5</td>\n",
       "      <td>blanc</td>\n",
       "      <td>False</td>\n",
       "      <td>50500</td>\n",
       "    </tr>\n",
       "    <tr>\n",
       "      <th>10</th>\n",
       "      <td>Volkswagen</td>\n",
       "      <td>Touran 2.0 FSI</td>\n",
       "      <td>150</td>\n",
       "      <td>2.0</td>\n",
       "      <td>7</td>\n",
       "      <td>5</td>\n",
       "      <td>rouge</td>\n",
       "      <td>False</td>\n",
       "      <td>27340</td>\n",
       "    </tr>\n",
       "    <tr>\n",
       "      <th>21</th>\n",
       "      <td>Volkswagen</td>\n",
       "      <td>Polo 1.2 6V</td>\n",
       "      <td>55</td>\n",
       "      <td>0.0</td>\n",
       "      <td>5</td>\n",
       "      <td>3</td>\n",
       "      <td>blanc</td>\n",
       "      <td>False</td>\n",
       "      <td>12200</td>\n",
       "    </tr>\n",
       "    <tr>\n",
       "      <th>35</th>\n",
       "      <td>Volkswagen</td>\n",
       "      <td>New Beatle 1.8</td>\n",
       "      <td>110</td>\n",
       "      <td>1.0</td>\n",
       "      <td>5</td>\n",
       "      <td>5</td>\n",
       "      <td>rouge</td>\n",
       "      <td>False</td>\n",
       "      <td>26630</td>\n",
       "    </tr>\n",
       "    <tr>\n",
       "      <th>45</th>\n",
       "      <td>Volkswagen</td>\n",
       "      <td>Golf 2.0 FSI</td>\n",
       "      <td>150</td>\n",
       "      <td>1.0</td>\n",
       "      <td>5</td>\n",
       "      <td>5</td>\n",
       "      <td>blanc</td>\n",
       "      <td>False</td>\n",
       "      <td>22900</td>\n",
       "    </tr>\n",
       "  </tbody>\n",
       "</table>\n",
       "</div>"
      ],
      "text/plain": [
       "        marque             nom  puissance  longueur  nbPlaces  nbPortes  \\\n",
       "0        Volvo          S80 T6        272       3.0         5         5   \n",
       "10  Volkswagen  Touran 2.0 FSI        150       2.0         7         5   \n",
       "21  Volkswagen     Polo 1.2 6V         55       0.0         5         3   \n",
       "35  Volkswagen  New Beatle 1.8        110       1.0         5         5   \n",
       "45  Volkswagen    Golf 2.0 FSI        150       1.0         5         5   \n",
       "\n",
       "   couleur  occasion   prix  \n",
       "0    blanc     False  50500  \n",
       "10   rouge     False  27340  \n",
       "21   blanc     False  12200  \n",
       "35   rouge     False  26630  \n",
       "45   blanc     False  22900  "
      ]
     },
     "execution_count": 10,
     "metadata": {},
     "output_type": "execute_result"
    }
   ],
   "source": [
    "catalogue_new.head()"
   ]
  },
  {
   "cell_type": "code",
   "execution_count": 11,
   "metadata": {},
   "outputs": [],
   "source": [
    "# Sélectionner uniquement les colonnes numériques\n",
    "X = catalogue_new.select_dtypes(include=['float64', 'int64'])"
   ]
  },
  {
   "cell_type": "code",
   "execution_count": 12,
   "metadata": {},
   "outputs": [
    {
     "data": {
      "text/html": [
       "<div>\n",
       "<style scoped>\n",
       "    .dataframe tbody tr th:only-of-type {\n",
       "        vertical-align: middle;\n",
       "    }\n",
       "\n",
       "    .dataframe tbody tr th {\n",
       "        vertical-align: top;\n",
       "    }\n",
       "\n",
       "    .dataframe thead th {\n",
       "        text-align: right;\n",
       "    }\n",
       "</style>\n",
       "<table border=\"1\" class=\"dataframe\">\n",
       "  <thead>\n",
       "    <tr style=\"text-align: right;\">\n",
       "      <th></th>\n",
       "      <th>puissance</th>\n",
       "      <th>longueur</th>\n",
       "      <th>nbPlaces</th>\n",
       "      <th>nbPortes</th>\n",
       "      <th>prix</th>\n",
       "    </tr>\n",
       "  </thead>\n",
       "  <tbody>\n",
       "    <tr>\n",
       "      <th>0</th>\n",
       "      <td>272</td>\n",
       "      <td>3.0</td>\n",
       "      <td>5</td>\n",
       "      <td>5</td>\n",
       "      <td>50500</td>\n",
       "    </tr>\n",
       "    <tr>\n",
       "      <th>10</th>\n",
       "      <td>150</td>\n",
       "      <td>2.0</td>\n",
       "      <td>7</td>\n",
       "      <td>5</td>\n",
       "      <td>27340</td>\n",
       "    </tr>\n",
       "    <tr>\n",
       "      <th>21</th>\n",
       "      <td>55</td>\n",
       "      <td>0.0</td>\n",
       "      <td>5</td>\n",
       "      <td>3</td>\n",
       "      <td>12200</td>\n",
       "    </tr>\n",
       "    <tr>\n",
       "      <th>35</th>\n",
       "      <td>110</td>\n",
       "      <td>1.0</td>\n",
       "      <td>5</td>\n",
       "      <td>5</td>\n",
       "      <td>26630</td>\n",
       "    </tr>\n",
       "    <tr>\n",
       "      <th>45</th>\n",
       "      <td>150</td>\n",
       "      <td>1.0</td>\n",
       "      <td>5</td>\n",
       "      <td>5</td>\n",
       "      <td>22900</td>\n",
       "    </tr>\n",
       "  </tbody>\n",
       "</table>\n",
       "</div>"
      ],
      "text/plain": [
       "    puissance  longueur  nbPlaces  nbPortes   prix\n",
       "0         272       3.0         5         5  50500\n",
       "10        150       2.0         7         5  27340\n",
       "21         55       0.0         5         3  12200\n",
       "35        110       1.0         5         5  26630\n",
       "45        150       1.0         5         5  22900"
      ]
     },
     "execution_count": 12,
     "metadata": {},
     "output_type": "execute_result"
    }
   ],
   "source": [
    "X.head()"
   ]
  },
  {
   "cell_type": "markdown",
   "metadata": {},
   "source": [
    "### Clustering"
   ]
  },
  {
   "cell_type": "code",
   "execution_count": 13,
   "metadata": {},
   "outputs": [
    {
     "data": {
      "text/plain": [
       "<matplotlib.collections.PathCollection at 0x21e2073e3c0>"
      ]
     },
     "execution_count": 13,
     "metadata": {},
     "output_type": "execute_result"
    },
    {
     "data": {
      "image/png": "[encoded data removed]",
      "text/plain": [
       "<Figure size 800x550 with 1 Axes>"
      ]
     },
     "metadata": {},
     "output_type": "display_data"
    }
   ],
   "source": [
    "plt.scatter (X[\"puissance\"], X[\"prix\"])"
   ]
  },
  {
   "cell_type": "code",
   "execution_count": 14,
   "metadata": {},
   "outputs": [],
   "source": [
    "# Normalizing the columns using apply with lambda function\n",
    "# X_norm = X.apply(lambda col: (col - col.mean()) / col.std())\n",
    "\n",
    "# Normalisation des attributs à l'aide du z-score\n",
    "\n",
    "def normalize (x) :\n",
    "    return (x-np.mean(x))/np.std(x)\n",
    "X_norm = pd.DataFrame()\n",
    "X_norm[\"puissance\"] = normalize (X.puissance)\n",
    "X_norm[\"nbPlaces\"]  = normalize (X.nbPlaces)\n",
    "X_norm[\"nbPortes\"]  = normalize (X.nbPortes)\n",
    "X_norm[\"longueur\"]  = normalize (X.longueur)\n",
    "X_norm[\"prix\"] = normalize (X.prix)"
   ]
  },
  {
   "cell_type": "code",
   "execution_count": 15,
   "metadata": {},
   "outputs": [
    {
     "data": {
      "text/html": [
       "<div>\n",
       "<style scoped>\n",
       "    .dataframe tbody tr th:only-of-type {\n",
       "        vertical-align: middle;\n",
       "    }\n",
       "\n",
       "    .dataframe tbody tr th {\n",
       "        vertical-align: top;\n",
       "    }\n",
       "\n",
       "    .dataframe thead th {\n",
       "        text-align: right;\n",
       "    }\n",
       "</style>\n",
       "<table border=\"1\" class=\"dataframe\">\n",
       "  <thead>\n",
       "    <tr style=\"text-align: right;\">\n",
       "      <th></th>\n",
       "      <th>puissance</th>\n",
       "      <th>nbPlaces</th>\n",
       "      <th>nbPortes</th>\n",
       "      <th>longueur</th>\n",
       "      <th>prix</th>\n",
       "    </tr>\n",
       "  </thead>\n",
       "  <tbody>\n",
       "    <tr>\n",
       "      <th>0</th>\n",
       "      <td>1.402175</td>\n",
       "      <td>-0.377964</td>\n",
       "      <td>0.321634</td>\n",
       "      <td>1.455214</td>\n",
       "      <td>1.052692</td>\n",
       "    </tr>\n",
       "    <tr>\n",
       "      <th>10</th>\n",
       "      <td>-0.012684</td>\n",
       "      <td>2.645751</td>\n",
       "      <td>0.321634</td>\n",
       "      <td>0.485071</td>\n",
       "      <td>-0.067970</td>\n",
       "    </tr>\n",
       "    <tr>\n",
       "      <th>21</th>\n",
       "      <td>-1.114419</td>\n",
       "      <td>-0.377964</td>\n",
       "      <td>-3.109126</td>\n",
       "      <td>-1.455214</td>\n",
       "      <td>-0.800561</td>\n",
       "    </tr>\n",
       "    <tr>\n",
       "      <th>35</th>\n",
       "      <td>-0.476573</td>\n",
       "      <td>-0.377964</td>\n",
       "      <td>0.321634</td>\n",
       "      <td>-0.485071</td>\n",
       "      <td>-0.102325</td>\n",
       "    </tr>\n",
       "    <tr>\n",
       "      <th>45</th>\n",
       "      <td>-0.012684</td>\n",
       "      <td>-0.377964</td>\n",
       "      <td>0.321634</td>\n",
       "      <td>-0.485071</td>\n",
       "      <td>-0.282812</td>\n",
       "    </tr>\n",
       "  </tbody>\n",
       "</table>\n",
       "</div>"
      ],
      "text/plain": [
       "    puissance  nbPlaces  nbPortes  longueur      prix\n",
       "0    1.402175 -0.377964  0.321634  1.455214  1.052692\n",
       "10  -0.012684  2.645751  0.321634  0.485071 -0.067970\n",
       "21  -1.114419 -0.377964 -3.109126 -1.455214 -0.800561\n",
       "35  -0.476573 -0.377964  0.321634 -0.485071 -0.102325\n",
       "45  -0.012684 -0.377964  0.321634 -0.485071 -0.282812"
      ]
     },
     "execution_count": 15,
     "metadata": {},
     "output_type": "execute_result"
    }
   ],
   "source": [
    "X_norm.head()"
   ]
  },
  {
   "cell_type": "code",
   "execution_count": 16,
   "metadata": {},
   "outputs": [
    {
     "data": {
      "text/html": [
       "<div>\n",
       "<style scoped>\n",
       "    .dataframe tbody tr th:only-of-type {\n",
       "        vertical-align: middle;\n",
       "    }\n",
       "\n",
       "    .dataframe tbody tr th {\n",
       "        vertical-align: top;\n",
       "    }\n",
       "\n",
       "    .dataframe thead th {\n",
       "        text-align: right;\n",
       "    }\n",
       "</style>\n",
       "<table border=\"1\" class=\"dataframe\">\n",
       "  <thead>\n",
       "    <tr style=\"text-align: right;\">\n",
       "      <th></th>\n",
       "      <th>puissance</th>\n",
       "      <th>nbPlaces</th>\n",
       "      <th>nbPortes</th>\n",
       "      <th>longueur</th>\n",
       "      <th>prix</th>\n",
       "    </tr>\n",
       "  </thead>\n",
       "  <tbody>\n",
       "    <tr>\n",
       "      <th>count</th>\n",
       "      <td>3.200000e+01</td>\n",
       "      <td>3.200000e+01</td>\n",
       "      <td>3.200000e+01</td>\n",
       "      <td>3.200000e+01</td>\n",
       "      <td>3.200000e+01</td>\n",
       "    </tr>\n",
       "    <tr>\n",
       "      <th>mean</th>\n",
       "      <td>2.775558e-17</td>\n",
       "      <td>-2.775558e-17</td>\n",
       "      <td>-2.775558e-17</td>\n",
       "      <td>6.938894e-18</td>\n",
       "      <td>-3.469447e-17</td>\n",
       "    </tr>\n",
       "    <tr>\n",
       "      <th>std</th>\n",
       "      <td>1.016001e+00</td>\n",
       "      <td>1.016001e+00</td>\n",
       "      <td>1.016001e+00</td>\n",
       "      <td>1.016001e+00</td>\n",
       "      <td>1.016001e+00</td>\n",
       "    </tr>\n",
       "    <tr>\n",
       "      <th>min</th>\n",
       "      <td>-1.114419e+00</td>\n",
       "      <td>-3.779645e-01</td>\n",
       "      <td>-3.109126e+00</td>\n",
       "      <td>-1.455214e+00</td>\n",
       "      <td>-1.027984e+00</td>\n",
       "    </tr>\n",
       "    <tr>\n",
       "      <th>25%</th>\n",
       "      <td>-5.606524e-01</td>\n",
       "      <td>-3.779645e-01</td>\n",
       "      <td>3.216338e-01</td>\n",
       "      <td>-4.850713e-01</td>\n",
       "      <td>-5.314041e-01</td>\n",
       "    </tr>\n",
       "    <tr>\n",
       "      <th>50%</th>\n",
       "      <td>-1.808439e-01</td>\n",
       "      <td>-3.779645e-01</td>\n",
       "      <td>3.216338e-01</td>\n",
       "      <td>4.850713e-01</td>\n",
       "      <td>-2.131332e-01</td>\n",
       "    </tr>\n",
       "    <tr>\n",
       "      <th>75%</th>\n",
       "      <td>1.757702e-01</td>\n",
       "      <td>-3.779645e-01</td>\n",
       "      <td>3.216338e-01</td>\n",
       "      <td>4.850713e-01</td>\n",
       "      <td>9.509718e-02</td>\n",
       "    </tr>\n",
       "    <tr>\n",
       "      <th>max</th>\n",
       "      <td>4.127518e+00</td>\n",
       "      <td>2.645751e+00</td>\n",
       "      <td>3.216338e-01</td>\n",
       "      <td>1.455214e+00</td>\n",
       "      <td>3.510793e+00</td>\n",
       "    </tr>\n",
       "  </tbody>\n",
       "</table>\n",
       "</div>"
      ],
      "text/plain": [
       "          puissance      nbPlaces      nbPortes      longueur          prix\n",
       "count  3.200000e+01  3.200000e+01  3.200000e+01  3.200000e+01  3.200000e+01\n",
       "mean   2.775558e-17 -2.775558e-17 -2.775558e-17  6.938894e-18 -3.469447e-17\n",
       "std    1.016001e+00  1.016001e+00  1.016001e+00  1.016001e+00  1.016001e+00\n",
       "min   -1.114419e+00 -3.779645e-01 -3.109126e+00 -1.455214e+00 -1.027984e+00\n",
       "25%   -5.606524e-01 -3.779645e-01  3.216338e-01 -4.850713e-01 -5.314041e-01\n",
       "50%   -1.808439e-01 -3.779645e-01  3.216338e-01  4.850713e-01 -2.131332e-01\n",
       "75%    1.757702e-01 -3.779645e-01  3.216338e-01  4.850713e-01  9.509718e-02\n",
       "max    4.127518e+00  2.645751e+00  3.216338e-01  1.455214e+00  3.510793e+00"
      ]
     },
     "execution_count": 16,
     "metadata": {},
     "output_type": "execute_result"
    }
   ],
   "source": [
    "X_norm.describe()"
   ]
  },
  {
   "cell_type": "code",
   "execution_count": 17,
   "metadata": {},
   "outputs": [
    {
     "data": {
      "text/html": [
       "<div>\n",
       "<style scoped>\n",
       "    .dataframe tbody tr th:only-of-type {\n",
       "        vertical-align: middle;\n",
       "    }\n",
       "\n",
       "    .dataframe tbody tr th {\n",
       "        vertical-align: top;\n",
       "    }\n",
       "\n",
       "    .dataframe thead th {\n",
       "        text-align: right;\n",
       "    }\n",
       "</style>\n",
       "<table border=\"1\" class=\"dataframe\">\n",
       "  <thead>\n",
       "    <tr style=\"text-align: right;\">\n",
       "      <th></th>\n",
       "      <th>puissance</th>\n",
       "      <th>nbPlaces</th>\n",
       "      <th>nbPortes</th>\n",
       "      <th>longueur</th>\n",
       "      <th>prix</th>\n",
       "    </tr>\n",
       "  </thead>\n",
       "  <tbody>\n",
       "    <tr>\n",
       "      <th>puissance</th>\n",
       "      <td>1.000000</td>\n",
       "      <td>-0.067257</td>\n",
       "      <td>0.311187</td>\n",
       "      <td>0.716720</td>\n",
       "      <td>0.914135</td>\n",
       "    </tr>\n",
       "    <tr>\n",
       "      <th>nbPlaces</th>\n",
       "      <td>-0.067257</td>\n",
       "      <td>1.000000</td>\n",
       "      <td>0.121566</td>\n",
       "      <td>0.183340</td>\n",
       "      <td>-0.099577</td>\n",
       "    </tr>\n",
       "    <tr>\n",
       "      <th>nbPortes</th>\n",
       "      <td>0.311187</td>\n",
       "      <td>0.121566</td>\n",
       "      <td>1.000000</td>\n",
       "      <td>0.468046</td>\n",
       "      <td>0.268122</td>\n",
       "    </tr>\n",
       "    <tr>\n",
       "      <th>longueur</th>\n",
       "      <td>0.716720</td>\n",
       "      <td>0.183340</td>\n",
       "      <td>0.468046</td>\n",
       "      <td>1.000000</td>\n",
       "      <td>0.651152</td>\n",
       "    </tr>\n",
       "    <tr>\n",
       "      <th>prix</th>\n",
       "      <td>0.914135</td>\n",
       "      <td>-0.099577</td>\n",
       "      <td>0.268122</td>\n",
       "      <td>0.651152</td>\n",
       "      <td>1.000000</td>\n",
       "    </tr>\n",
       "  </tbody>\n",
       "</table>\n",
       "</div>"
      ],
      "text/plain": [
       "           puissance  nbPlaces  nbPortes  longueur      prix\n",
       "puissance   1.000000 -0.067257  0.311187  0.716720  0.914135\n",
       "nbPlaces   -0.067257  1.000000  0.121566  0.183340 -0.099577\n",
       "nbPortes    0.311187  0.121566  1.000000  0.468046  0.268122\n",
       "longueur    0.716720  0.183340  0.468046  1.000000  0.651152\n",
       "prix        0.914135 -0.099577  0.268122  0.651152  1.000000"
      ]
     },
     "execution_count": 17,
     "metadata": {},
     "output_type": "execute_result"
    }
   ],
   "source": [
    "X_norm.corr()"
   ]
  },
  {
   "cell_type": "code",
   "execution_count": 18,
   "metadata": {},
   "outputs": [
    {
     "data": {
      "image/png": "[encoded data removed]",
      "text/plain": [
       "<Figure size 1000x800 with 2 Axes>"
      ]
     },
     "metadata": {},
     "output_type": "display_data"
    }
   ],
   "source": [
    "# Matrice de corrélation\n",
    "plt.figure(figsize=(10, 8))\n",
    "sns.heatmap(X_norm[['puissance','longueur','nbPlaces','prix','nbPortes']].corr(), annot=True, cmap='coolwarm')\n",
    "plt.title('Matrice de corrélation')\n",
    "plt.show()\n"
   ]
  },
  {
   "cell_type": "code",
   "execution_count": 19,
   "metadata": {},
   "outputs": [
    {
     "data": {
      "text/plain": [
       "<matplotlib.collections.PathCollection at 0x21e20960890>"
      ]
     },
     "execution_count": 19,
     "metadata": {},
     "output_type": "execute_result"
    },
    {
     "data": {
      "image/png": "[encoded data removed]",
      "text/plain": [
       "<Figure size 800x550 with 1 Axes>"
      ]
     },
     "metadata": {},
     "output_type": "display_data"
    }
   ],
   "source": [
    "plt.scatter (X_norm[\"puissance\"], X_norm[\"prix\"])"
   ]
  },
  {
   "cell_type": "code",
   "execution_count": 20,
   "metadata": {},
   "outputs": [
    {
     "data": {
      "text/plain": [
       "Index(['puissance', 'nbPlaces', 'nbPortes', 'longueur', 'prix'], dtype='object')"
      ]
     },
     "execution_count": 20,
     "metadata": {},
     "output_type": "execute_result"
    }
   ],
   "source": [
    "X_norm.columns"
   ]
  },
  {
   "cell_type": "code",
   "execution_count": 21,
   "metadata": {},
   "outputs": [
    {
     "data": {
      "image/png": "[encoded data removed]",
      "text/plain": [
       "<Figure size 800x550 with 2 Axes>"
      ]
     },
     "metadata": {},
     "output_type": "display_data"
    },
    {
     "data": {
      "text/plain": [
       "<Axes: title={'center': 'Distortion Score Elbow for KMeans Clustering'}, xlabel='k', ylabel='distortion score'>"
      ]
     },
     "execution_count": 21,
     "metadata": {},
     "output_type": "execute_result"
    }
   ],
   "source": [
    "# Visualisation Elbow pour le choix de K pour kmeans\n",
    "\n",
    "kmeans = KMeans(n_init=\"auto\", random_state=123)\n",
    "\n",
    "visualizer = KElbowVisualizer(kmeans, k=(1,15))\n",
    "\n",
    "\n",
    "visualizer.fit(X_norm[['puissance', 'longueur', 'prix']])        # Fit the data to the visualizer\n",
    "\n",
    "visualizer.show()        # Finalize and render the figure\n"
   ]
  },
  {
   "cell_type": "code",
   "execution_count": 22,
   "metadata": {},
   "outputs": [
    {
     "data": {
      "text/plain": [
       "[<matplotlib.lines.Line2D at 0x21e232e03e0>]"
      ]
     },
     "execution_count": 22,
     "metadata": {},
     "output_type": "execute_result"
    },
    {
     "data": {
      "image/png": "[encoded data removed]",
      "text/plain": [
       "<Figure size 800x550 with 1 Axes>"
      ]
     },
     "metadata": {},
     "output_type": "display_data"
    }
   ],
   "source": [
    "# Visualisation de Silhouette coef pour le choix de K\n",
    "n_clusters = list (range (2, 10))\n",
    "silhouettes = []\n",
    "for k in n_clusters :\n",
    "    kmeans = KMeans(n_clusters=k, random_state=123, n_init=\"auto\")\n",
    "    kmeans.fit(X_norm[['puissance','longueur', 'prix']])\n",
    "    silhouettes.append (silhouette_score(X_norm[['puissance','longueur', 'prix']], kmeans.labels_))\n",
    "\n",
    "plt.plot(n_clusters, silhouettes)"
   ]
  },
  {
   "cell_type": "code",
   "execution_count": 23,
   "metadata": {},
   "outputs": [
    {
     "data": {
      "text/html": [
       "<style>#sk-container-id-1 {\n",
       "  /* Definition of color scheme common for light and dark mode */\n",
       "  --sklearn-color-text: #000;\n",
       "  --sklearn-color-text-muted: #666;\n",
       "  --sklearn-color-line: gray;\n",
       "  /* Definition of color scheme for unfitted estimators */\n",
       "  --sklearn-color-unfitted-level-0: #fff5e6;\n",
       "  --sklearn-color-unfitted-level-1: #f6e4d2;\n",
       "  --sklearn-color-unfitted-level-2: #ffe0b3;\n",
       "  --sklearn-color-unfitted-level-3: chocolate;\n",
       "  /* Definition of color scheme for fitted estimators */\n",
       "  --sklearn-color-fitted-level-0: #f0f8ff;\n",
       "  --sklearn-color-fitted-level-1: #d4ebff;\n",
       "  --sklearn-color-fitted-level-2: #b3dbfd;\n",
       "  --sklearn-color-fitted-level-3: cornflowerblue;\n",
       "\n",
       "  /* Specific color for light theme */\n",
       "  --sklearn-color-text-on-default-background: var(--sg-text-color, var(--theme-code-foreground, var(--jp-content-font-color1, black)));\n",
       "  --sklearn-color-background: var(--sg-background-color, var(--theme-background, var(--jp-layout-color0, white)));\n",
       "  --sklearn-color-border-box: var(--sg-text-color, var(--theme-code-foreground, var(--jp-content-font-color1, black)));\n",
       "  --sklearn-color-icon: #696969;\n",
       "\n",
       "  @media (prefers-color-scheme: dark) {\n",
       "    /* Redefinition of color scheme for dark theme */\n",
       "    --sklearn-color-text-on-default-background: var(--sg-text-color, var(--theme-code-foreground, var(--jp-content-font-color1, white)));\n",
       "    --sklearn-color-background: var(--sg-background-color, var(--theme-background, var(--jp-layout-color0, #111)));\n",
       "    --sklearn-color-border-box: var(--sg-text-color, var(--theme-code-foreground, var(--jp-content-font-color1, white)));\n",
       "    --sklearn-color-icon: #878787;\n",
       "  }\n",
       "}\n",
       "\n",
       "#sk-container-id-1 {\n",
       "  color: var(--sklearn-color-text);\n",
       "}\n",
       "\n",
       "#sk-container-id-1 pre {\n",
       "  padding: 0;\n",
       "}\n",
       "\n",
       "#sk-container-id-1 input.sk-hidden--visually {\n",
       "  border: 0;\n",
       "  clip: rect(1px 1px 1px 1px);\n",
       "  clip: rect(1px, 1px, 1px, 1px);\n",
       "  height: 1px;\n",
       "  margin: -1px;\n",
       "  overflow: hidden;\n",
       "  padding: 0;\n",
       "  position: absolute;\n",
       "  width: 1px;\n",
       "}\n",
       "\n",
       "#sk-container-id-1 div.sk-dashed-wrapped {\n",
       "  border: 1px dashed var(--sklearn-color-line);\n",
       "  margin: 0 0.4em 0.5em 0.4em;\n",
       "  box-sizing: border-box;\n",
       "  padding-bottom: 0.4em;\n",
       "  background-color: var(--sklearn-color-background);\n",
       "}\n",
       "\n",
       "#sk-container-id-1 div.sk-container {\n",
       "  /* jupyter's `normalize.less` sets `[hidden] { display: none; }`\n",
       "     but bootstrap.min.css set `[hidden] { display: none !important; }`\n",
       "     so we also need the `!important` here to be able to override the\n",
       "     default hidden behavior on the sphinx rendered scikit-learn.org.\n",
       "     See: https://github.com/scikit-learn/scikit-learn/issues/21755 */\n",
       "  display: inline-block !important;\n",
       "  position: relative;\n",
       "}\n",
       "\n",
       "#sk-container-id-1 div.sk-text-repr-fallback {\n",
       "  display: none;\n",
       "}\n",
       "\n",
       "div.sk-parallel-item,\n",
       "div.sk-serial,\n",
       "div.sk-item {\n",
       "  /* draw centered vertical line to link estimators */\n",
       "  background-image: linear-gradient(var(--sklearn-color-text-on-default-background), var(--sklearn-color-text-on-default-background));\n",
       "  background-size: 2px 100%;\n",
       "  background-repeat: no-repeat;\n",
       "  background-position: center center;\n",
       "}\n",
       "\n",
       "/* Parallel-specific style estimator block */\n",
       "\n",
       "#sk-container-id-1 div.sk-parallel-item::after {\n",
       "  content: \"\";\n",
       "  width: 100%;\n",
       "  border-bottom: 2px solid var(--sklearn-color-text-on-default-background);\n",
       "  flex-grow: 1;\n",
       "}\n",
       "\n",
       "#sk-container-id-1 div.sk-parallel {\n",
       "  display: flex;\n",
       "  align-items: stretch;\n",
       "  justify-content: center;\n",
       "  background-color: var(--sklearn-color-background);\n",
       "  position: relative;\n",
       "}\n",
       "\n",
       "#sk-container-id-1 div.sk-parallel-item {\n",
       "  display: flex;\n",
       "  flex-direction: column;\n",
       "}\n",
       "\n",
       "#sk-container-id-1 div.sk-parallel-item:first-child::after {\n",
       "  align-self: flex-end;\n",
       "  width: 50%;\n",
       "}\n",
       "\n",
       "#sk-container-id-1 div.sk-parallel-item:last-child::after {\n",
       "  align-self: flex-start;\n",
       "  width: 50%;\n",
       "}\n",
       "\n",
       "#sk-container-id-1 div.sk-parallel-item:only-child::after {\n",
       "  width: 0;\n",
       "}\n",
       "\n",
       "/* Serial-specific style estimator block */\n",
       "\n",
       "#sk-container-id-1 div.sk-serial {\n",
       "  display: flex;\n",
       "  flex-direction: column;\n",
       "  align-items: center;\n",
       "  background-color: var(--sklearn-color-background);\n",
       "  padding-right: 1em;\n",
       "  padding-left: 1em;\n",
       "}\n",
       "\n",
       "\n",
       "/* Toggleable style: style used for estimator/Pipeline/ColumnTransformer box that is\n",
       "clickable and can be expanded/collapsed.\n",
       "- Pipeline and ColumnTransformer use this feature and define the default style\n",
       "- Estimators will overwrite some part of the style using the `sk-estimator` class\n",
       "*/\n",
       "\n",
       "/* Pipeline and ColumnTransformer style (default) */\n",
       "\n",
       "#sk-container-id-1 div.sk-toggleable {\n",
       "  /* Default theme specific background. It is overwritten whether we have a\n",
       "  specific estimator or a Pipeline/ColumnTransformer */\n",
       "  background-color: var(--sklearn-color-background);\n",
       "}\n",
       "\n",
       "/* Toggleable label */\n",
       "#sk-container-id-1 label.sk-toggleable__label {\n",
       "  cursor: pointer;\n",
       "  display: flex;\n",
       "  width: 100%;\n",
       "  margin-bottom: 0;\n",
       "  padding: 0.5em;\n",
       "  box-sizing: border-box;\n",
       "  text-align: center;\n",
       "  align-items: start;\n",
       "  justify-content: space-between;\n",
       "  gap: 0.5em;\n",
       "}\n",
       "\n",
       "#sk-container-id-1 label.sk-toggleable__label .caption {\n",
       "  font-size: 0.6rem;\n",
       "  font-weight: lighter;\n",
       "  color: var(--sklearn-color-text-muted);\n",
       "}\n",
       "\n",
       "#sk-container-id-1 label.sk-toggleable__label-arrow:before {\n",
       "  /* Arrow on the left of the label */\n",
       "  content: \"▸\";\n",
       "  float: left;\n",
       "  margin-right: 0.25em;\n",
       "  color: var(--sklearn-color-icon);\n",
       "}\n",
       "\n",
       "#sk-container-id-1 label.sk-toggleable__label-arrow:hover:before {\n",
       "  color: var(--sklearn-color-text);\n",
       "}\n",
       "\n",
       "/* Toggleable content - dropdown */\n",
       "\n",
       "#sk-container-id-1 div.sk-toggleable__content {\n",
       "  max-height: 0;\n",
       "  max-width: 0;\n",
       "  overflow: hidden;\n",
       "  text-align: left;\n",
       "  /* unfitted */\n",
       "  background-color: var(--sklearn-color-unfitted-level-0);\n",
       "}\n",
       "\n",
       "#sk-container-id-1 div.sk-toggleable__content.fitted {\n",
       "  /* fitted */\n",
       "  background-color: var(--sklearn-color-fitted-level-0);\n",
       "}\n",
       "\n",
       "#sk-container-id-1 div.sk-toggleable__content pre {\n",
       "  margin: 0.2em;\n",
       "  border-radius: 0.25em;\n",
       "  color: var(--sklearn-color-text);\n",
       "  /* unfitted */\n",
       "  background-color: var(--sklearn-color-unfitted-level-0);\n",
       "}\n",
       "\n",
       "#sk-container-id-1 div.sk-toggleable__content.fitted pre {\n",
       "  /* unfitted */\n",
       "  background-color: var(--sklearn-color-fitted-level-0);\n",
       "}\n",
       "\n",
       "#sk-container-id-1 input.sk-toggleable__control:checked~div.sk-toggleable__content {\n",
       "  /* Expand drop-down */\n",
       "  max-height: 200px;\n",
       "  max-width: 100%;\n",
       "  overflow: auto;\n",
       "}\n",
       "\n",
       "#sk-container-id-1 input.sk-toggleable__control:checked~label.sk-toggleable__label-arrow:before {\n",
       "  content: \"▾\";\n",
       "}\n",
       "\n",
       "/* Pipeline/ColumnTransformer-specific style */\n",
       "\n",
       "#sk-container-id-1 div.sk-label input.sk-toggleable__control:checked~label.sk-toggleable__label {\n",
       "  color: var(--sklearn-color-text);\n",
       "  background-color: var(--sklearn-color-unfitted-level-2);\n",
       "}\n",
       "\n",
       "#sk-container-id-1 div.sk-label.fitted input.sk-toggleable__control:checked~label.sk-toggleable__label {\n",
       "  background-color: var(--sklearn-color-fitted-level-2);\n",
       "}\n",
       "\n",
       "/* Estimator-specific style */\n",
       "\n",
       "/* Colorize estimator box */\n",
       "#sk-container-id-1 div.sk-estimator input.sk-toggleable__control:checked~label.sk-toggleable__label {\n",
       "  /* unfitted */\n",
       "  background-color: var(--sklearn-color-unfitted-level-2);\n",
       "}\n",
       "\n",
       "#sk-container-id-1 div.sk-estimator.fitted input.sk-toggleable__control:checked~label.sk-toggleable__label {\n",
       "  /* fitted */\n",
       "  background-color: var(--sklearn-color-fitted-level-2);\n",
       "}\n",
       "\n",
       "#sk-container-id-1 div.sk-label label.sk-toggleable__label,\n",
       "#sk-container-id-1 div.sk-label label {\n",
       "  /* The background is the default theme color */\n",
       "  color: var(--sklearn-color-text-on-default-background);\n",
       "}\n",
       "\n",
       "/* On hover, darken the color of the background */\n",
       "#sk-container-id-1 div.sk-label:hover label.sk-toggleable__label {\n",
       "  color: var(--sklearn-color-text);\n",
       "  background-color: var(--sklearn-color-unfitted-level-2);\n",
       "}\n",
       "\n",
       "/* Label box, darken color on hover, fitted */\n",
       "#sk-container-id-1 div.sk-label.fitted:hover label.sk-toggleable__label.fitted {\n",
       "  color: var(--sklearn-color-text);\n",
       "  background-color: var(--sklearn-color-fitted-level-2);\n",
       "}\n",
       "\n",
       "/* Estimator label */\n",
       "\n",
       "#sk-container-id-1 div.sk-label label {\n",
       "  font-family: monospace;\n",
       "  font-weight: bold;\n",
       "  display: inline-block;\n",
       "  line-height: 1.2em;\n",
       "}\n",
       "\n",
       "#sk-container-id-1 div.sk-label-container {\n",
       "  text-align: center;\n",
       "}\n",
       "\n",
       "/* Estimator-specific */\n",
       "#sk-container-id-1 div.sk-estimator {\n",
       "  font-family: monospace;\n",
       "  border: 1px dotted var(--sklearn-color-border-box);\n",
       "  border-radius: 0.25em;\n",
       "  box-sizing: border-box;\n",
       "  margin-bottom: 0.5em;\n",
       "  /* unfitted */\n",
       "  background-color: var(--sklearn-color-unfitted-level-0);\n",
       "}\n",
       "\n",
       "#sk-container-id-1 div.sk-estimator.fitted {\n",
       "  /* fitted */\n",
       "  background-color: var(--sklearn-color-fitted-level-0);\n",
       "}\n",
       "\n",
       "/* on hover */\n",
       "#sk-container-id-1 div.sk-estimator:hover {\n",
       "  /* unfitted */\n",
       "  background-color: var(--sklearn-color-unfitted-level-2);\n",
       "}\n",
       "\n",
       "#sk-container-id-1 div.sk-estimator.fitted:hover {\n",
       "  /* fitted */\n",
       "  background-color: var(--sklearn-color-fitted-level-2);\n",
       "}\n",
       "\n",
       "/* Specification for estimator info (e.g. \"i\" and \"?\") */\n",
       "\n",
       "/* Common style for \"i\" and \"?\" */\n",
       "\n",
       ".sk-estimator-doc-link,\n",
       "a:link.sk-estimator-doc-link,\n",
       "a:visited.sk-estimator-doc-link {\n",
       "  float: right;\n",
       "  font-size: smaller;\n",
       "  line-height: 1em;\n",
       "  font-family: monospace;\n",
       "  background-color: var(--sklearn-color-background);\n",
       "  border-radius: 1em;\n",
       "  height: 1em;\n",
       "  width: 1em;\n",
       "  text-decoration: none !important;\n",
       "  margin-left: 0.5em;\n",
       "  text-align: center;\n",
       "  /* unfitted */\n",
       "  border: var(--sklearn-color-unfitted-level-1) 1pt solid;\n",
       "  color: var(--sklearn-color-unfitted-level-1);\n",
       "}\n",
       "\n",
       ".sk-estimator-doc-link.fitted,\n",
       "a:link.sk-estimator-doc-link.fitted,\n",
       "a:visited.sk-estimator-doc-link.fitted {\n",
       "  /* fitted */\n",
       "  border: var(--sklearn-color-fitted-level-1) 1pt solid;\n",
       "  color: var(--sklearn-color-fitted-level-1);\n",
       "}\n",
       "\n",
       "/* On hover */\n",
       "div.sk-estimator:hover .sk-estimator-doc-link:hover,\n",
       ".sk-estimator-doc-link:hover,\n",
       "div.sk-label-container:hover .sk-estimator-doc-link:hover,\n",
       ".sk-estimator-doc-link:hover {\n",
       "  /* unfitted */\n",
       "  background-color: var(--sklearn-color-unfitted-level-3);\n",
       "  color: var(--sklearn-color-background);\n",
       "  text-decoration: none;\n",
       "}\n",
       "\n",
       "div.sk-estimator.fitted:hover .sk-estimator-doc-link.fitted:hover,\n",
       ".sk-estimator-doc-link.fitted:hover,\n",
       "div.sk-label-container:hover .sk-estimator-doc-link.fitted:hover,\n",
       ".sk-estimator-doc-link.fitted:hover {\n",
       "  /* fitted */\n",
       "  background-color: var(--sklearn-color-fitted-level-3);\n",
       "  color: var(--sklearn-color-background);\n",
       "  text-decoration: none;\n",
       "}\n",
       "\n",
       "/* Span, style for the box shown on hovering the info icon */\n",
       ".sk-estimator-doc-link span {\n",
       "  display: none;\n",
       "  z-index: 9999;\n",
       "  position: relative;\n",
       "  font-weight: normal;\n",
       "  right: .2ex;\n",
       "  padding: .5ex;\n",
       "  margin: .5ex;\n",
       "  width: min-content;\n",
       "  min-width: 20ex;\n",
       "  max-width: 50ex;\n",
       "  color: var(--sklearn-color-text);\n",
       "  box-shadow: 2pt 2pt 4pt #999;\n",
       "  /* unfitted */\n",
       "  background: var(--sklearn-color-unfitted-level-0);\n",
       "  border: .5pt solid var(--sklearn-color-unfitted-level-3);\n",
       "}\n",
       "\n",
       ".sk-estimator-doc-link.fitted span {\n",
       "  /* fitted */\n",
       "  background: var(--sklearn-color-fitted-level-0);\n",
       "  border: var(--sklearn-color-fitted-level-3);\n",
       "}\n",
       "\n",
       ".sk-estimator-doc-link:hover span {\n",
       "  display: block;\n",
       "}\n",
       "\n",
       "/* \"?\"-specific style due to the `<a>` HTML tag */\n",
       "\n",
       "#sk-container-id-1 a.estimator_doc_link {\n",
       "  float: right;\n",
       "  font-size: 1rem;\n",
       "  line-height: 1em;\n",
       "  font-family: monospace;\n",
       "  background-color: var(--sklearn-color-background);\n",
       "  border-radius: 1rem;\n",
       "  height: 1rem;\n",
       "  width: 1rem;\n",
       "  text-decoration: none;\n",
       "  /* unfitted */\n",
       "  color: var(--sklearn-color-unfitted-level-1);\n",
       "  border: var(--sklearn-color-unfitted-level-1) 1pt solid;\n",
       "}\n",
       "\n",
       "#sk-container-id-1 a.estimator_doc_link.fitted {\n",
       "  /* fitted */\n",
       "  border: var(--sklearn-color-fitted-level-1) 1pt solid;\n",
       "  color: var(--sklearn-color-fitted-level-1);\n",
       "}\n",
       "\n",
       "/* On hover */\n",
       "#sk-container-id-1 a.estimator_doc_link:hover {\n",
       "  /* unfitted */\n",
       "  background-color: var(--sklearn-color-unfitted-level-3);\n",
       "  color: var(--sklearn-color-background);\n",
       "  text-decoration: none;\n",
       "}\n",
       "\n",
       "#sk-container-id-1 a.estimator_doc_link.fitted:hover {\n",
       "  /* fitted */\n",
       "  background-color: var(--sklearn-color-fitted-level-3);\n",
       "}\n",
       "</style><div id=\"sk-container-id-1\" class=\"sk-top-container\"><div class=\"sk-text-repr-fallback\"><pre>KMeans(n_clusters=4, random_state=123)</pre><b>In a Jupyter environment, please rerun this cell to show the HTML representation or trust the notebook. <br />On GitHub, the HTML representation is unable to render, please try loading this page with nbviewer.org.</b></div><div class=\"sk-container\" hidden><div class=\"sk-item\"><div class=\"sk-estimator fitted sk-toggleable\"><input class=\"sk-toggleable__control sk-hidden--visually\" id=\"sk-estimator-id-1\" type=\"checkbox\" checked><label for=\"sk-estimator-id-1\" class=\"sk-toggleable__label fitted sk-toggleable__label-arrow\"><div><div>KMeans</div></div><div><a class=\"sk-estimator-doc-link fitted\" rel=\"noreferrer\" target=\"_blank\" href=\"https://scikit-learn.org/1.6/modules/generated/sklearn.cluster.KMeans.html\">?<span>Documentation for KMeans</span></a><span class=\"sk-estimator-doc-link fitted\">i<span>Fitted</span></span></div></label><div class=\"sk-toggleable__content fitted\"><pre>KMeans(n_clusters=4, random_state=123)</pre></div> </div></div></div></div>"
      ],
      "text/plain": [
       "KMeans(n_clusters=4, random_state=123)"
      ]
     },
     "execution_count": 23,
     "metadata": {},
     "output_type": "execute_result"
    }
   ],
   "source": [
    "# Apply KMeans with K=5\n",
    "kmeans = KMeans(n_clusters=4, random_state=123, n_init=\"auto\")\n",
    "kmeans.fit(X_norm[['puissance','longueur', 'prix']])"
   ]
  },
  {
   "cell_type": "code",
   "execution_count": 24,
   "metadata": {},
   "outputs": [],
   "source": [
    "# Add the cluster labels to catalogue_new\n",
    "catalogue_new['Cluster'] = kmeans.labels_"
   ]
  },
  {
   "cell_type": "code",
   "execution_count": 25,
   "metadata": {},
   "outputs": [
    {
     "data": {
      "text/html": [
       "<div>\n",
       "<style scoped>\n",
       "    .dataframe tbody tr th:only-of-type {\n",
       "        vertical-align: middle;\n",
       "    }\n",
       "\n",
       "    .dataframe tbody tr th {\n",
       "        vertical-align: top;\n",
       "    }\n",
       "\n",
       "    .dataframe thead th {\n",
       "        text-align: right;\n",
       "    }\n",
       "</style>\n",
       "<table border=\"1\" class=\"dataframe\">\n",
       "  <thead>\n",
       "    <tr style=\"text-align: right;\">\n",
       "      <th></th>\n",
       "      <th>marque</th>\n",
       "      <th>nom</th>\n",
       "      <th>puissance</th>\n",
       "      <th>longueur</th>\n",
       "      <th>nbPlaces</th>\n",
       "      <th>nbPortes</th>\n",
       "      <th>couleur</th>\n",
       "      <th>occasion</th>\n",
       "      <th>prix</th>\n",
       "      <th>Cluster</th>\n",
       "    </tr>\n",
       "  </thead>\n",
       "  <tbody>\n",
       "    <tr>\n",
       "      <th>0</th>\n",
       "      <td>Volvo</td>\n",
       "      <td>S80 T6</td>\n",
       "      <td>272</td>\n",
       "      <td>3.0</td>\n",
       "      <td>5</td>\n",
       "      <td>5</td>\n",
       "      <td>blanc</td>\n",
       "      <td>False</td>\n",
       "      <td>50500</td>\n",
       "      <td>3</td>\n",
       "    </tr>\n",
       "    <tr>\n",
       "      <th>10</th>\n",
       "      <td>Volkswagen</td>\n",
       "      <td>Touran 2.0 FSI</td>\n",
       "      <td>150</td>\n",
       "      <td>2.0</td>\n",
       "      <td>7</td>\n",
       "      <td>5</td>\n",
       "      <td>rouge</td>\n",
       "      <td>False</td>\n",
       "      <td>27340</td>\n",
       "      <td>0</td>\n",
       "    </tr>\n",
       "    <tr>\n",
       "      <th>21</th>\n",
       "      <td>Volkswagen</td>\n",
       "      <td>Polo 1.2 6V</td>\n",
       "      <td>55</td>\n",
       "      <td>0.0</td>\n",
       "      <td>5</td>\n",
       "      <td>3</td>\n",
       "      <td>blanc</td>\n",
       "      <td>False</td>\n",
       "      <td>12200</td>\n",
       "      <td>1</td>\n",
       "    </tr>\n",
       "    <tr>\n",
       "      <th>35</th>\n",
       "      <td>Volkswagen</td>\n",
       "      <td>New Beatle 1.8</td>\n",
       "      <td>110</td>\n",
       "      <td>1.0</td>\n",
       "      <td>5</td>\n",
       "      <td>5</td>\n",
       "      <td>rouge</td>\n",
       "      <td>False</td>\n",
       "      <td>26630</td>\n",
       "      <td>0</td>\n",
       "    </tr>\n",
       "    <tr>\n",
       "      <th>45</th>\n",
       "      <td>Volkswagen</td>\n",
       "      <td>Golf 2.0 FSI</td>\n",
       "      <td>150</td>\n",
       "      <td>1.0</td>\n",
       "      <td>5</td>\n",
       "      <td>5</td>\n",
       "      <td>blanc</td>\n",
       "      <td>False</td>\n",
       "      <td>22900</td>\n",
       "      <td>0</td>\n",
       "    </tr>\n",
       "  </tbody>\n",
       "</table>\n",
       "</div>"
      ],
      "text/plain": [
       "        marque             nom  puissance  longueur  nbPlaces  nbPortes  \\\n",
       "0        Volvo          S80 T6        272       3.0         5         5   \n",
       "10  Volkswagen  Touran 2.0 FSI        150       2.0         7         5   \n",
       "21  Volkswagen     Polo 1.2 6V         55       0.0         5         3   \n",
       "35  Volkswagen  New Beatle 1.8        110       1.0         5         5   \n",
       "45  Volkswagen    Golf 2.0 FSI        150       1.0         5         5   \n",
       "\n",
       "   couleur  occasion   prix  Cluster  \n",
       "0    blanc     False  50500        3  \n",
       "10   rouge     False  27340        0  \n",
       "21   blanc     False  12200        1  \n",
       "35   rouge     False  26630        0  \n",
       "45   blanc     False  22900        0  "
      ]
     },
     "execution_count": 25,
     "metadata": {},
     "output_type": "execute_result"
    }
   ],
   "source": [
    "catalogue_new.head()"
   ]
  },
  {
   "cell_type": "code",
   "execution_count": 26,
   "metadata": {},
   "outputs": [
    {
     "data": {
      "image/png": "[encoded data removed]",
      "text/plain": [
       "<Figure size 800x600 with 2 Axes>"
      ]
     },
     "metadata": {},
     "output_type": "display_data"
    }
   ],
   "source": [
    "# Visualize the clusters in catalogue_new\n",
    "plt.figure(figsize=(8, 6))\n",
    "\n",
    "# Scatter plot of the first two features (you can choose any features for visualization)\n",
    "plt.scatter(catalogue_new['puissance'], catalogue_new['prix'], c=catalogue_new['Cluster'], cmap='viridis', s=50, alpha=0.6)\n",
    "\n",
    "plt.title('KMeans Clustering (K=4) - Catalogue New')\n",
    "plt.xlabel('Puissance')\n",
    "plt.ylabel('Prix')\n",
    "plt.colorbar(label='Cluster')\n",
    "plt.show()"
   ]
  },
  {
   "cell_type": "code",
   "execution_count": 53,
   "metadata": {},
   "outputs": [
    {
     "data": {
      "image/png": "[encoded data removed]",
      "text/plain": [
       "<Figure size 1000x800 with 1 Axes>"
      ]
     },
     "metadata": {},
     "output_type": "display_data"
    }
   ],
   "source": [
    "import matplotlib.pyplot as plt\n",
    "import matplotlib.patches as mpatches\n",
    "\n",
    "# Noms des clusters\n",
    "cluster_names = {\n",
    "    0: \"Voitures moyennes/familiales\" ,\n",
    "    1: \"Voitures économiques/compactes\",\n",
    "    2: \"Voitures de luxe\",\n",
    "    3: \"Voitures sportives\"\n",
    "}\n",
    "\n",
    "# Créer une figure pour le graphique\n",
    "plt.figure(figsize=(10, 8))\n",
    "\n",
    "# Scatter plot des clusters en fonction de la puissance et du prix\n",
    "scatter = plt.scatter(\n",
    "    catalogue_new['puissance'], \n",
    "    catalogue_new['prix'], \n",
    "    c=catalogue_new['Cluster'], \n",
    "    cmap='viridis', \n",
    "    s=50, \n",
    "    alpha=0.6\n",
    ")\n",
    "\n",
    "# Ajouter des étiquettes et un titre\n",
    "plt.title('KMeans Clustering (K=4) - Catalogue New')\n",
    "plt.xlabel('Puissance')\n",
    "plt.ylabel('Prix')\n",
    "\n",
    "# Créer une légende avec les noms des clusters\n",
    "colors = scatter.cmap(scatter.norm([0, 1, 2, 3]))  # Couleurs associées aux clusters\n",
    "patches = [mpatches.Patch(color=colors[i], label=f\"Cluster {i}: {cluster_names[i]}\") for i in range(4)]\n",
    "plt.legend(handles=patches, loc='lower right')\n",
    "\n",
    "# Afficher la barre de couleurs et le graphique\n",
    "# plt.colorbar(label='Cluster')\n",
    "plt.tight_layout()  # Ajuste les marges pour éviter le chevauchement\n",
    "plt.show()"
   ]
  },
  {
   "cell_type": "code",
   "execution_count": 28,
   "metadata": {},
   "outputs": [
    {
     "data": {
      "image/png": "[encoded data removed]",
      "text/plain": [
       "<Figure size 800x500 with 2 Axes>"
      ]
     },
     "metadata": {},
     "output_type": "display_data"
    }
   ],
   "source": [
    "# Réduction de dimension pour visualisation\n",
    "pca = PCA(n_components=2)\n",
    "X_pca = pca.fit_transform(X)\n",
    "# Visualisation des clusters\n",
    "plt.figure(figsize=(8, 5))\n",
    "plt.scatter(X_pca[:, 0], X_pca[:, 1], c=catalogue_new['Cluster'], cmap='viridis',\n",
    "alpha=0.6, edgecolor='k')\n",
    "plt.title('Clustering des véhicules (k=2)')\n",
    "plt.xlabel('Composante principale 1')\n",
    "plt.ylabel('Composante principale 2')\n",
    "plt.colorbar(label='Cluster')\n",
    "plt.show()\n"
   ]
  },
  {
   "cell_type": "code",
   "execution_count": 29,
   "metadata": {},
   "outputs": [
    {
     "data": {
      "image/png": "[encoded data removed]",
      "text/plain": [
       "<Figure size 800x550 with 1 Axes>"
      ]
     },
     "metadata": {},
     "output_type": "display_data"
    },
    {
     "name": "stdout",
     "output_type": "stream",
     "text": [
      "Cluster Centers (Centroids):\n",
      "[[-0.1886891   0.08560081 -0.18449901]\n",
      " [-0.84913295 -1.33394594 -0.77818194]\n",
      " [ 2.96199896  1.45521375  3.35353277]\n",
      " [ 0.81535608  1.26118525  0.53097464]]\n"
     ]
    }
   ],
   "source": [
    "# Optionally, you can also visualize the cluster centers\n",
    "cluster_centers = kmeans.cluster_centers_\n",
    "\n",
    "# Plot the cluster centers on the same scatter plot\n",
    "plt.scatter(cluster_centers[:, 0], cluster_centers[:, 2], color='red', marker='X', s=100, label='Cluster Centers')\n",
    "plt.legend()\n",
    "plt.show()\n",
    "\n",
    "# Display the cluster centers for interpretation\n",
    "print(\"Cluster Centers (Centroids):\")\n",
    "print(cluster_centers)"
   ]
  },
  {
   "cell_type": "code",
   "execution_count": 30,
   "metadata": {},
   "outputs": [],
   "source": [
    "tsne = TSNE(n_components=2, learning_rate='auto', init='random', perplexity=3, random_state=42)\n",
    "X_red = tsne.fit_transform(X_norm)"
   ]
  },
  {
   "cell_type": "code",
   "execution_count": 31,
   "metadata": {},
   "outputs": [
    {
     "data": {
      "text/plain": [
       "<matplotlib.collections.PathCollection at 0x21e238390d0>"
      ]
     },
     "execution_count": 31,
     "metadata": {},
     "output_type": "execute_result"
    },
    {
     "data": {
      "image/png": "[encoded data removed]",
      "text/plain": [
       "<Figure size 800x550 with 1 Axes>"
      ]
     },
     "metadata": {},
     "output_type": "display_data"
    }
   ],
   "source": [
    "plt.scatter(X_norm[\"puissance\"], X_norm[\"prix\"], c=kmeans.labels_, cmap=\"rainbow\")"
   ]
  },
  {
   "cell_type": "code",
   "execution_count": 32,
   "metadata": {},
   "outputs": [
    {
     "data": {
      "text/plain": [
       "<matplotlib.collections.PathCollection at 0x21e238a3740>"
      ]
     },
     "execution_count": 32,
     "metadata": {},
     "output_type": "execute_result"
    },
    {
     "data": {
      "image/png": "[encoded data removed]",
      "text/plain": [
       "<Figure size 800x550 with 1 Axes>"
      ]
     },
     "metadata": {},
     "output_type": "display_data"
    }
   ],
   "source": [
    "plt.scatter(X_red[:,0], X_red[:,1], c=kmeans.labels_, cmap=\"rainbow\")"
   ]
  },
  {
   "cell_type": "code",
   "execution_count": 33,
   "metadata": {},
   "outputs": [],
   "source": [
    "catalogue_new.to_csv(\"../data/clustered/catalogue_clusters.csv\")"
   ]
  },
  {
   "cell_type": "code",
   "execution_count": 34,
   "metadata": {},
   "outputs": [],
   "source": [
    "immatriculations = pd.read_csv(\"../data/processed/immatriculations_processed.csv\")"
   ]
  },
  {
   "cell_type": "markdown",
   "metadata": {},
   "source": [
    "#### Ajouter les clusters à immatriculations"
   ]
  },
  {
   "cell_type": "code",
   "execution_count": 35,
   "metadata": {},
   "outputs": [
    {
     "data": {
      "text/html": [
       "<div>\n",
       "<style scoped>\n",
       "    .dataframe tbody tr th:only-of-type {\n",
       "        vertical-align: middle;\n",
       "    }\n",
       "\n",
       "    .dataframe tbody tr th {\n",
       "        vertical-align: top;\n",
       "    }\n",
       "\n",
       "    .dataframe thead th {\n",
       "        text-align: right;\n",
       "    }\n",
       "</style>\n",
       "<table border=\"1\" class=\"dataframe\">\n",
       "  <thead>\n",
       "    <tr style=\"text-align: right;\">\n",
       "      <th></th>\n",
       "      <th>immatriculation</th>\n",
       "      <th>marque</th>\n",
       "      <th>nom</th>\n",
       "      <th>puissance</th>\n",
       "      <th>longueur</th>\n",
       "      <th>nbPlaces</th>\n",
       "      <th>nbPortes</th>\n",
       "      <th>couleur</th>\n",
       "      <th>occasion</th>\n",
       "      <th>prix</th>\n",
       "    </tr>\n",
       "  </thead>\n",
       "  <tbody>\n",
       "    <tr>\n",
       "      <th>0</th>\n",
       "      <td>3467 SB 72</td>\n",
       "      <td>Seat</td>\n",
       "      <td>Toledo 1.6</td>\n",
       "      <td>102</td>\n",
       "      <td>longue</td>\n",
       "      <td>5</td>\n",
       "      <td>5</td>\n",
       "      <td>bleu</td>\n",
       "      <td>False</td>\n",
       "      <td>18880</td>\n",
       "    </tr>\n",
       "    <tr>\n",
       "      <th>1</th>\n",
       "      <td>113 LY 42</td>\n",
       "      <td>Renault</td>\n",
       "      <td>Vel Satis 3.5 V6</td>\n",
       "      <td>245</td>\n",
       "      <td>très longue</td>\n",
       "      <td>5</td>\n",
       "      <td>5</td>\n",
       "      <td>noir</td>\n",
       "      <td>False</td>\n",
       "      <td>49200</td>\n",
       "    </tr>\n",
       "    <tr>\n",
       "      <th>2</th>\n",
       "      <td>925 WK 87</td>\n",
       "      <td>Jaguar</td>\n",
       "      <td>X-Type 2.5 V6</td>\n",
       "      <td>197</td>\n",
       "      <td>longue</td>\n",
       "      <td>5</td>\n",
       "      <td>5</td>\n",
       "      <td>blanc</td>\n",
       "      <td>False</td>\n",
       "      <td>37100</td>\n",
       "    </tr>\n",
       "    <tr>\n",
       "      <th>3</th>\n",
       "      <td>3279 RV 81</td>\n",
       "      <td>Renault</td>\n",
       "      <td>Laguna 2.0T</td>\n",
       "      <td>170</td>\n",
       "      <td>longue</td>\n",
       "      <td>5</td>\n",
       "      <td>5</td>\n",
       "      <td>gris</td>\n",
       "      <td>False</td>\n",
       "      <td>27300</td>\n",
       "    </tr>\n",
       "    <tr>\n",
       "      <th>4</th>\n",
       "      <td>82 RZ 54</td>\n",
       "      <td>Fiat</td>\n",
       "      <td>Croma 2.2</td>\n",
       "      <td>147</td>\n",
       "      <td>longue</td>\n",
       "      <td>5</td>\n",
       "      <td>5</td>\n",
       "      <td>bleu</td>\n",
       "      <td>False</td>\n",
       "      <td>24780</td>\n",
       "    </tr>\n",
       "  </tbody>\n",
       "</table>\n",
       "</div>"
      ],
      "text/plain": [
       "  immatriculation   marque               nom  puissance     longueur  \\\n",
       "0      3467 SB 72     Seat        Toledo 1.6        102       longue   \n",
       "1       113 LY 42  Renault  Vel Satis 3.5 V6        245  très longue   \n",
       "2       925 WK 87   Jaguar     X-Type 2.5 V6        197       longue   \n",
       "3      3279 RV 81  Renault       Laguna 2.0T        170       longue   \n",
       "4        82 RZ 54     Fiat         Croma 2.2        147       longue   \n",
       "\n",
       "   nbPlaces  nbPortes couleur  occasion   prix  \n",
       "0         5         5    bleu     False  18880  \n",
       "1         5         5    noir     False  49200  \n",
       "2         5         5   blanc     False  37100  \n",
       "3         5         5    gris     False  27300  \n",
       "4         5         5    bleu     False  24780  "
      ]
     },
     "execution_count": 35,
     "metadata": {},
     "output_type": "execute_result"
    }
   ],
   "source": [
    "immatriculations.head()"
   ]
  },
  {
   "cell_type": "code",
   "execution_count": 36,
   "metadata": {},
   "outputs": [
    {
     "data": {
      "text/plain": [
       "99989"
      ]
     },
     "execution_count": 36,
     "metadata": {},
     "output_type": "execute_result"
    }
   ],
   "source": [
    "len(immatriculations)"
   ]
  },
  {
   "cell_type": "code",
   "execution_count": 37,
   "metadata": {},
   "outputs": [],
   "source": [
    "# Extraire uniquement les colonnes pertinentes du catalogue contenant les informations des clusters\n",
    "catalogue_clusters = catalogue_new[['marque', 'nom', 'Cluster']]  # Colonnes marque, nom et Cluster"
   ]
  },
  {
   "cell_type": "code",
   "execution_count": 38,
   "metadata": {},
   "outputs": [],
   "source": [
    "# Fusionner les clusters du catalogue avec les immatriculations sur les colonnes 'marque' et 'nom'\n",
    "immatriculations_with_clusters = immatriculations.merge(\n",
    "    catalogue_clusters, \n",
    "    on=['marque', 'nom'],  # Jointure sur les colonnes 'marque' et 'nom'\n",
    "    how='left'  # Utilisation d'une jointure 'left' pour conserver toutes les lignes de immatriculations\n",
    ")"
   ]
  },
  {
   "cell_type": "code",
   "execution_count": 39,
   "metadata": {},
   "outputs": [
    {
     "name": "stdout",
     "output_type": "stream",
     "text": [
      "  immatriculation   marque               nom  puissance     longueur  \\\n",
      "0      3467 SB 72     Seat        Toledo 1.6        102       longue   \n",
      "1       113 LY 42  Renault  Vel Satis 3.5 V6        245  très longue   \n",
      "2       925 WK 87   Jaguar     X-Type 2.5 V6        197       longue   \n",
      "3      3279 RV 81  Renault       Laguna 2.0T        170       longue   \n",
      "4        82 RZ 54     Fiat         Croma 2.2        147       longue   \n",
      "\n",
      "   nbPlaces  nbPortes couleur  occasion   prix  Cluster  \n",
      "0         5         5    bleu     False  18880        0  \n",
      "1         5         5    noir     False  49200        3  \n",
      "2         5         5   blanc     False  37100        3  \n",
      "3         5         5    gris     False  27300        0  \n",
      "4         5         5    bleu     False  24780        0  \n"
     ]
    }
   ],
   "source": [
    "# Afficher les premières lignes du tableau immatriculations avec les clusters ajoutés\n",
    "print(immatriculations_with_clusters.head())"
   ]
  },
  {
   "cell_type": "code",
   "execution_count": 40,
   "metadata": {},
   "outputs": [
    {
     "data": {
      "text/plain": [
       "99989"
      ]
     },
     "execution_count": 40,
     "metadata": {},
     "output_type": "execute_result"
    }
   ],
   "source": [
    "len(immatriculations)"
   ]
  },
  {
   "cell_type": "code",
   "execution_count": 41,
   "metadata": {},
   "outputs": [
    {
     "data": {
      "text/plain": [
       "68638"
      ]
     },
     "execution_count": 41,
     "metadata": {},
     "output_type": "execute_result"
    }
   ],
   "source": [
    "immatriculations_with_clusters = immatriculations_with_clusters[immatriculations_with_clusters[\"occasion\"]==False]\n",
    "len(immatriculations_with_clusters)"
   ]
  },
  {
   "cell_type": "code",
   "execution_count": 42,
   "metadata": {},
   "outputs": [],
   "source": [
    "#Sauvegarder le tableau mis à jour dans un fichier CSV\n",
    "immatriculations_with_clusters.to_csv('../data/clustered/immatriculations_clusters.csv', index=False)\n"
   ]
  },
  {
   "cell_type": "code",
   "execution_count": null,
   "metadata": {},
   "outputs": [],
   "source": []
  }
 ],
 "metadata": {
  "kernelspec": {
   "display_name": "DataMiningEnv",
   "language": "python",
   "name": "python3"
  },
  "language_info": {
   "codemirror_mode": {
    "name": "ipython",
    "version": 3
   },
   "file_extension": ".py",
   "mimetype": "text/x-python",
   "name": "python",
   "nbconvert_exporter": "python",
   "pygments_lexer": "ipython3",
   "version": "3.12.4"
  }
 },
 "nbformat": 4,
 "nbformat_minor": 2
}
