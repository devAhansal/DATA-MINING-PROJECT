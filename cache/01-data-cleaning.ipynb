{
 "cells": [
  {
   "cell_type": "code",
   "execution_count": 102,
   "metadata": {},
   "outputs": [
    {
     "name": "stdout",
     "output_type": "stream",
     "text": [
      "c:\\Users\\Beeclick\\Documents\\MIAAD\\S3\\Data Mining\\Project\\data-mining-project\\DataMiningEnv\\Scripts\\python.exe\n"
     ]
    }
   ],
   "source": [
    "import sys\n",
    "print(sys.executable)"
   ]
  },
  {
   "cell_type": "markdown",
   "metadata": {},
   "source": [
    "### Import des bibliothèques"
   ]
  },
  {
   "cell_type": "code",
   "execution_count": 103,
   "metadata": {},
   "outputs": [],
   "source": [
    "import numpy as np\n",
    "import pandas as pd\n",
    "import matplotlib.pyplot as plt\n",
    "import seaborn as sns\n",
    "sns.set()"
   ]
  },
  {
   "cell_type": "markdown",
   "metadata": {},
   "source": [
    "### Chargement des données brutes"
   ]
  },
  {
   "cell_type": "code",
   "execution_count": 104,
   "metadata": {},
   "outputs": [],
   "source": [
    "clients = pd.read_csv(\"../data/raw/Clients.csv\")\n",
    "catalogue = pd.read_csv(\"../data/raw/Catalogue.csv\")\n",
    "immatriculations = pd.read_csv(\"../data/raw/immatriculations_small.csv\")\n",
    "marketing = pd.read_csv(\"../data/raw/Marketing.csv\")"
   ]
  },
  {
   "cell_type": "markdown",
   "metadata": {},
   "source": [
    "# Nettoyage des données pour les clients"
   ]
  },
  {
   "cell_type": "code",
   "execution_count": 105,
   "metadata": {},
   "outputs": [
    {
     "name": "stdout",
     "output_type": "stream",
     "text": [
      "Aperçu des données brutes:\n"
     ]
    },
    {
     "data": {
      "text/html": [
       "<div>\n",
       "<style scoped>\n",
       "    .dataframe tbody tr th:only-of-type {\n",
       "        vertical-align: middle;\n",
       "    }\n",
       "\n",
       "    .dataframe tbody tr th {\n",
       "        vertical-align: top;\n",
       "    }\n",
       "\n",
       "    .dataframe thead th {\n",
       "        text-align: right;\n",
       "    }\n",
       "</style>\n",
       "<table border=\"1\" class=\"dataframe\">\n",
       "  <thead>\n",
       "    <tr style=\"text-align: right;\">\n",
       "      <th></th>\n",
       "      <th>age</th>\n",
       "      <th>sexe</th>\n",
       "      <th>taux</th>\n",
       "      <th>situationFamiliale</th>\n",
       "      <th>nbEnfantsAcharge</th>\n",
       "      <th>2eme voiture</th>\n",
       "      <th>immatriculation</th>\n",
       "    </tr>\n",
       "  </thead>\n",
       "  <tbody>\n",
       "    <tr>\n",
       "      <th>0</th>\n",
       "      <td>25</td>\n",
       "      <td>F</td>\n",
       "      <td>159</td>\n",
       "      <td>En Couple</td>\n",
       "      <td>2</td>\n",
       "      <td>false</td>\n",
       "      <td>3467 SB 72</td>\n",
       "    </tr>\n",
       "    <tr>\n",
       "      <th>1</th>\n",
       "      <td>53</td>\n",
       "      <td>M</td>\n",
       "      <td>594</td>\n",
       "      <td>En Couple</td>\n",
       "      <td>2</td>\n",
       "      <td>false</td>\n",
       "      <td>113 LY 42</td>\n",
       "    </tr>\n",
       "    <tr>\n",
       "      <th>2</th>\n",
       "      <td>20</td>\n",
       "      <td>F</td>\n",
       "      <td>949</td>\n",
       "      <td>En Couple</td>\n",
       "      <td>1</td>\n",
       "      <td>false</td>\n",
       "      <td>925 WK 87</td>\n",
       "    </tr>\n",
       "    <tr>\n",
       "      <th>3</th>\n",
       "      <td>29</td>\n",
       "      <td>M</td>\n",
       "      <td>571</td>\n",
       "      <td>En Couple</td>\n",
       "      <td>2</td>\n",
       "      <td>false</td>\n",
       "      <td>3279 RV 81</td>\n",
       "    </tr>\n",
       "    <tr>\n",
       "      <th>4</th>\n",
       "      <td>47</td>\n",
       "      <td>M</td>\n",
       "      <td>502</td>\n",
       "      <td>En Couple</td>\n",
       "      <td>1</td>\n",
       "      <td>false</td>\n",
       "      <td>82 RZ 54</td>\n",
       "    </tr>\n",
       "  </tbody>\n",
       "</table>\n",
       "</div>"
      ],
      "text/plain": [
       "  age sexe taux situationFamiliale nbEnfantsAcharge 2eme voiture  \\\n",
       "0  25    F  159          En Couple                2        false   \n",
       "1  53    M  594          En Couple                2        false   \n",
       "2  20    F  949          En Couple                1        false   \n",
       "3  29    M  571          En Couple                2        false   \n",
       "4  47    M  502          En Couple                1        false   \n",
       "\n",
       "  immatriculation  \n",
       "0      3467 SB 72  \n",
       "1       113 LY 42  \n",
       "2       925 WK 87  \n",
       "3      3279 RV 81  \n",
       "4        82 RZ 54  "
      ]
     },
     "execution_count": 105,
     "metadata": {},
     "output_type": "execute_result"
    }
   ],
   "source": [
    "# Affichage des premières lignes\n",
    "print(\"Aperçu des données brutes:\")\n",
    "clients.head()"
   ]
  },
  {
   "cell_type": "code",
   "execution_count": 106,
   "metadata": {},
   "outputs": [],
   "source": [
    "# Remplacer les valeurs incorrectes (erreurs de saisie) par NaN\n",
    "clients.replace(['?', 'N/D', ' '], pd.NA, inplace=True)"
   ]
  },
  {
   "cell_type": "code",
   "execution_count": 107,
   "metadata": {},
   "outputs": [
    {
     "name": "stdout",
     "output_type": "stream",
     "text": [
      "\n",
      "Informations sur les données:\n",
      "<class 'pandas.core.frame.DataFrame'>\n",
      "RangeIndex: 100000 entries, 0 to 99999\n",
      "Data columns (total 7 columns):\n",
      " #   Column              Non-Null Count   Dtype \n",
      "---  ------              --------------   ----- \n",
      " 0   age                 99807 non-null   object\n",
      " 1   sexe                99709 non-null   object\n",
      " 2   taux                99806 non-null   object\n",
      " 3   situationFamiliale  99681 non-null   object\n",
      " 4   nbEnfantsAcharge    99800 non-null   object\n",
      " 5   2eme voiture        99780 non-null   object\n",
      " 6   immatriculation     100000 non-null  object\n",
      "dtypes: object(7)\n",
      "memory usage: 5.3+ MB\n",
      "\n",
      "Valeurs manquantes par colonne:\n"
     ]
    },
    {
     "data": {
      "text/plain": [
       "age                   193\n",
       "sexe                  291\n",
       "taux                  194\n",
       "situationFamiliale    319\n",
       "nbEnfantsAcharge      200\n",
       "2eme voiture          220\n",
       "immatriculation         0\n",
       "dtype: int64"
      ]
     },
     "execution_count": 107,
     "metadata": {},
     "output_type": "execute_result"
    }
   ],
   "source": [
    "# Vérification des types de données et des valeurs manquantes\n",
    "print(\"\\nInformations sur les données:\")\n",
    "clients.info()\n",
    "print(\"\\nValeurs manquantes par colonne:\")\n",
    "clients.isnull().sum()"
   ]
  },
  {
   "cell_type": "code",
   "execution_count": 108,
   "metadata": {},
   "outputs": [],
   "source": [
    "# Conversion en type numérique en remplaçant les valeurs non convertibles par NaN\n",
    "clients['age'] =  pd.to_numeric(clients['age'], errors='coerce')\n",
    "clients['taux'] = pd.to_numeric(clients['taux'], errors='coerce')\n",
    "clients['nbEnfantsAcharge'] = pd.to_numeric(clients['nbEnfantsAcharge'], errors='coerce')"
   ]
  },
  {
   "cell_type": "code",
   "execution_count": 109,
   "metadata": {},
   "outputs": [
    {
     "name": "stdout",
     "output_type": "stream",
     "text": [
      "\n",
      "Nombre de doublons : 0\n"
     ]
    }
   ],
   "source": [
    "# Recherche des doublons\n",
    "duplicates = clients.duplicated().sum()\n",
    "print(f\"\\nNombre de doublons : {duplicates}\")"
   ]
  },
  {
   "cell_type": "code",
   "execution_count": 110,
   "metadata": {},
   "outputs": [],
   "source": [
    "# Suppression des doublons\n",
    "# df = df.drop_duplicates()"
   ]
  },
  {
   "cell_type": "code",
   "execution_count": 111,
   "metadata": {},
   "outputs": [
    {
     "name": "stdout",
     "output_type": "stream",
     "text": [
      "sexe\n",
      "M           68283\n",
      "F           29388\n",
      "Homme         743\n",
      "Masculin      684\n",
      "Féminin       322\n",
      "Femme         289\n",
      "Name: count, dtype: int64\n",
      "\n",
      "situationFamiliale\n",
      "En Couple      63855\n",
      "Célibataire    29841\n",
      "Seule           4989\n",
      "Marié(e)         664\n",
      "Seul             282\n",
      "Divorcée          50\n",
      "Name: count, dtype: int64\n",
      "\n",
      "2eme voiture\n",
      "false    86845\n",
      "true     12935\n",
      "Name: count, dtype: int64\n",
      "\n",
      "immatriculation\n",
      "835 JQ 59     2\n",
      "4229 XL 63    2\n",
      "7084 RU 46    2\n",
      "3648 SM 17    2\n",
      "3142 RV 53    2\n",
      "             ..\n",
      "5659 SO 55    1\n",
      "6760 YM 11    1\n",
      "385 UN 57     1\n",
      "4056 HI 13    1\n",
      "3467 SB 72    1\n",
      "Name: count, Length: 99989, dtype: int64\n",
      "\n"
     ]
    }
   ],
   "source": [
    "# Compter les occurrences pour chaque colonne de type 'object'\n",
    "for col in clients.columns:\n",
    "    if clients[col].dtype == 'object':\n",
    "        print(clients[col].value_counts())\n",
    "        print()\n",
    "\n",
    "# or\n",
    "# clients['sexe'].unique() #..."
   ]
  },
  {
   "cell_type": "code",
   "execution_count": 112,
   "metadata": {},
   "outputs": [],
   "source": [
    "# Remplacer les valeurs dans la colonne \"sexe\"\n",
    "clients['sexe'] = clients['sexe'].replace({\n",
    "    'Homme': 'M',\n",
    "    'Masculin': 'M',\n",
    "    'Féminin': 'F',\n",
    "    'Femme': 'F',\n",
    "})"
   ]
  },
  {
   "cell_type": "code",
   "execution_count": 113,
   "metadata": {},
   "outputs": [],
   "source": [
    "# Remplacer les valeurs dans la colonne \"sexe\"\n",
    "clients['situationFamiliale'] = clients['situationFamiliale'].replace({\n",
    "    'Seule': 'Célibataire',\n",
    "    'Seul': 'Célibataire',\n",
    "})"
   ]
  },
  {
   "cell_type": "code",
   "execution_count": 114,
   "metadata": {},
   "outputs": [
    {
     "data": {
      "text/html": [
       "<div>\n",
       "<style scoped>\n",
       "    .dataframe tbody tr th:only-of-type {\n",
       "        vertical-align: middle;\n",
       "    }\n",
       "\n",
       "    .dataframe tbody tr th {\n",
       "        vertical-align: top;\n",
       "    }\n",
       "\n",
       "    .dataframe thead th {\n",
       "        text-align: right;\n",
       "    }\n",
       "</style>\n",
       "<table border=\"1\" class=\"dataframe\">\n",
       "  <thead>\n",
       "    <tr style=\"text-align: right;\">\n",
       "      <th></th>\n",
       "      <th>sexe</th>\n",
       "      <th>situationFamiliale</th>\n",
       "      <th>2eme voiture</th>\n",
       "      <th>immatriculation</th>\n",
       "    </tr>\n",
       "  </thead>\n",
       "  <tbody>\n",
       "    <tr>\n",
       "      <th>count</th>\n",
       "      <td>99709</td>\n",
       "      <td>99681</td>\n",
       "      <td>99780</td>\n",
       "      <td>100000</td>\n",
       "    </tr>\n",
       "    <tr>\n",
       "      <th>unique</th>\n",
       "      <td>2</td>\n",
       "      <td>4</td>\n",
       "      <td>2</td>\n",
       "      <td>99989</td>\n",
       "    </tr>\n",
       "    <tr>\n",
       "      <th>top</th>\n",
       "      <td>M</td>\n",
       "      <td>En Couple</td>\n",
       "      <td>false</td>\n",
       "      <td>835 JQ 59</td>\n",
       "    </tr>\n",
       "    <tr>\n",
       "      <th>freq</th>\n",
       "      <td>69710</td>\n",
       "      <td>63855</td>\n",
       "      <td>86845</td>\n",
       "      <td>2</td>\n",
       "    </tr>\n",
       "  </tbody>\n",
       "</table>\n",
       "</div>"
      ],
      "text/plain": [
       "         sexe situationFamiliale 2eme voiture immatriculation\n",
       "count   99709              99681        99780          100000\n",
       "unique      2                  4            2           99989\n",
       "top         M          En Couple        false       835 JQ 59\n",
       "freq    69710              63855        86845               2"
      ]
     },
     "execution_count": 114,
     "metadata": {},
     "output_type": "execute_result"
    }
   ],
   "source": [
    "clients.describe(include='object')"
   ]
  },
  {
   "cell_type": "code",
   "execution_count": 115,
   "metadata": {},
   "outputs": [
    {
     "data": {
      "text/html": [
       "<div>\n",
       "<style scoped>\n",
       "    .dataframe tbody tr th:only-of-type {\n",
       "        vertical-align: middle;\n",
       "    }\n",
       "\n",
       "    .dataframe tbody tr th {\n",
       "        vertical-align: top;\n",
       "    }\n",
       "\n",
       "    .dataframe thead th {\n",
       "        text-align: right;\n",
       "    }\n",
       "</style>\n",
       "<table border=\"1\" class=\"dataframe\">\n",
       "  <thead>\n",
       "    <tr style=\"text-align: right;\">\n",
       "      <th></th>\n",
       "      <th>age</th>\n",
       "      <th>taux</th>\n",
       "      <th>nbEnfantsAcharge</th>\n",
       "    </tr>\n",
       "  </thead>\n",
       "  <tbody>\n",
       "    <tr>\n",
       "      <th>count</th>\n",
       "      <td>99807.000000</td>\n",
       "      <td>99806.000000</td>\n",
       "      <td>99800.000000</td>\n",
       "    </tr>\n",
       "    <tr>\n",
       "      <th>mean</th>\n",
       "      <td>43.733335</td>\n",
       "      <td>607.800503</td>\n",
       "      <td>1.245150</td>\n",
       "    </tr>\n",
       "    <tr>\n",
       "      <th>std</th>\n",
       "      <td>18.355480</td>\n",
       "      <td>336.279121</td>\n",
       "      <td>1.388624</td>\n",
       "    </tr>\n",
       "    <tr>\n",
       "      <th>min</th>\n",
       "      <td>-1.000000</td>\n",
       "      <td>-1.000000</td>\n",
       "      <td>-1.000000</td>\n",
       "    </tr>\n",
       "    <tr>\n",
       "      <th>25%</th>\n",
       "      <td>28.000000</td>\n",
       "      <td>420.000000</td>\n",
       "      <td>0.000000</td>\n",
       "    </tr>\n",
       "    <tr>\n",
       "      <th>50%</th>\n",
       "      <td>42.000000</td>\n",
       "      <td>520.000000</td>\n",
       "      <td>1.000000</td>\n",
       "    </tr>\n",
       "    <tr>\n",
       "      <th>75%</th>\n",
       "      <td>57.000000</td>\n",
       "      <td>827.000000</td>\n",
       "      <td>2.000000</td>\n",
       "    </tr>\n",
       "    <tr>\n",
       "      <th>max</th>\n",
       "      <td>84.000000</td>\n",
       "      <td>1399.000000</td>\n",
       "      <td>4.000000</td>\n",
       "    </tr>\n",
       "  </tbody>\n",
       "</table>\n",
       "</div>"
      ],
      "text/plain": [
       "                age          taux  nbEnfantsAcharge\n",
       "count  99807.000000  99806.000000      99800.000000\n",
       "mean      43.733335    607.800503          1.245150\n",
       "std       18.355480    336.279121          1.388624\n",
       "min       -1.000000     -1.000000         -1.000000\n",
       "25%       28.000000    420.000000          0.000000\n",
       "50%       42.000000    520.000000          1.000000\n",
       "75%       57.000000    827.000000          2.000000\n",
       "max       84.000000   1399.000000          4.000000"
      ]
     },
     "execution_count": 115,
     "metadata": {},
     "output_type": "execute_result"
    }
   ],
   "source": [
    "clients.describe()"
   ]
  },
  {
   "cell_type": "markdown",
   "metadata": {},
   "source": [
    "### Gérer les valeurs manquantes"
   ]
  },
  {
   "cell_type": "code",
   "execution_count": 116,
   "metadata": {},
   "outputs": [],
   "source": [
    "# Création d'un nouveau dataframe pour Imputation et Suppression\n",
    "clients_imputed = clients.copy()\n",
    "clients_dropped = clients.copy()"
   ]
  },
  {
   "cell_type": "markdown",
   "metadata": {},
   "source": [
    "#### A-Remplacez les valeurs manquantes par mean or mode or median"
   ]
  },
  {
   "cell_type": "code",
   "execution_count": 117,
   "metadata": {},
   "outputs": [],
   "source": [
    "# Remplacement des valeurs manquantes pour les colonnes numériques par la médiane\n",
    "clients_imputed['age'] = clients_imputed['age'].fillna(clients_imputed['age'].median())\n",
    "clients_imputed['taux'] = clients_imputed['taux'].fillna(clients_imputed['taux'].median())\n",
    "clients_imputed['nbEnfantsAcharge'] = clients_imputed['nbEnfantsAcharge'].fillna(clients_imputed['nbEnfantsAcharge'].median())"
   ]
  },
  {
   "cell_type": "code",
   "execution_count": 118,
   "metadata": {},
   "outputs": [],
   "source": [
    "# Remplacement des valeurs manquantes pour les colonnes catégorielles par la valeur la plus fréquente\n",
    "clients_imputed['sexe'] = clients_imputed['sexe'].fillna(clients_imputed['sexe'].mode()[0])\n",
    "clients_imputed['situationFamiliale'] = clients_imputed['situationFamiliale'].fillna(clients_imputed['situationFamiliale'].mode()[0])\n",
    "clients_imputed['2eme voiture'] = clients_imputed['2eme voiture'].fillna(clients_imputed['2eme voiture'].mode()[0])"
   ]
  },
  {
   "cell_type": "code",
   "execution_count": 119,
   "metadata": {},
   "outputs": [
    {
     "data": {
      "text/html": [
       "<div>\n",
       "<style scoped>\n",
       "    .dataframe tbody tr th:only-of-type {\n",
       "        vertical-align: middle;\n",
       "    }\n",
       "\n",
       "    .dataframe tbody tr th {\n",
       "        vertical-align: top;\n",
       "    }\n",
       "\n",
       "    .dataframe thead th {\n",
       "        text-align: right;\n",
       "    }\n",
       "</style>\n",
       "<table border=\"1\" class=\"dataframe\">\n",
       "  <thead>\n",
       "    <tr style=\"text-align: right;\">\n",
       "      <th></th>\n",
       "      <th>sexe</th>\n",
       "      <th>situationFamiliale</th>\n",
       "      <th>2eme voiture</th>\n",
       "      <th>immatriculation</th>\n",
       "    </tr>\n",
       "  </thead>\n",
       "  <tbody>\n",
       "    <tr>\n",
       "      <th>count</th>\n",
       "      <td>100000</td>\n",
       "      <td>100000</td>\n",
       "      <td>100000</td>\n",
       "      <td>100000</td>\n",
       "    </tr>\n",
       "    <tr>\n",
       "      <th>unique</th>\n",
       "      <td>2</td>\n",
       "      <td>4</td>\n",
       "      <td>2</td>\n",
       "      <td>99989</td>\n",
       "    </tr>\n",
       "    <tr>\n",
       "      <th>top</th>\n",
       "      <td>M</td>\n",
       "      <td>En Couple</td>\n",
       "      <td>false</td>\n",
       "      <td>835 JQ 59</td>\n",
       "    </tr>\n",
       "    <tr>\n",
       "      <th>freq</th>\n",
       "      <td>70001</td>\n",
       "      <td>64174</td>\n",
       "      <td>87065</td>\n",
       "      <td>2</td>\n",
       "    </tr>\n",
       "  </tbody>\n",
       "</table>\n",
       "</div>"
      ],
      "text/plain": [
       "          sexe situationFamiliale 2eme voiture immatriculation\n",
       "count   100000             100000       100000          100000\n",
       "unique       2                  4            2           99989\n",
       "top          M          En Couple        false       835 JQ 59\n",
       "freq     70001              64174        87065               2"
      ]
     },
     "execution_count": 119,
     "metadata": {},
     "output_type": "execute_result"
    }
   ],
   "source": [
    "clients_imputed.describe(include='object')"
   ]
  },
  {
   "cell_type": "code",
   "execution_count": 120,
   "metadata": {},
   "outputs": [
    {
     "data": {
      "text/html": [
       "<div>\n",
       "<style scoped>\n",
       "    .dataframe tbody tr th:only-of-type {\n",
       "        vertical-align: middle;\n",
       "    }\n",
       "\n",
       "    .dataframe tbody tr th {\n",
       "        vertical-align: top;\n",
       "    }\n",
       "\n",
       "    .dataframe thead th {\n",
       "        text-align: right;\n",
       "    }\n",
       "</style>\n",
       "<table border=\"1\" class=\"dataframe\">\n",
       "  <thead>\n",
       "    <tr style=\"text-align: right;\">\n",
       "      <th></th>\n",
       "      <th>age</th>\n",
       "      <th>taux</th>\n",
       "      <th>nbEnfantsAcharge</th>\n",
       "    </tr>\n",
       "  </thead>\n",
       "  <tbody>\n",
       "    <tr>\n",
       "      <th>count</th>\n",
       "      <td>100000.000000</td>\n",
       "      <td>100000.000000</td>\n",
       "      <td>100000.000000</td>\n",
       "    </tr>\n",
       "    <tr>\n",
       "      <th>mean</th>\n",
       "      <td>43.729990</td>\n",
       "      <td>607.630170</td>\n",
       "      <td>1.244660</td>\n",
       "    </tr>\n",
       "    <tr>\n",
       "      <th>std</th>\n",
       "      <td>18.337916</td>\n",
       "      <td>335.974983</td>\n",
       "      <td>1.387278</td>\n",
       "    </tr>\n",
       "    <tr>\n",
       "      <th>min</th>\n",
       "      <td>-1.000000</td>\n",
       "      <td>-1.000000</td>\n",
       "      <td>-1.000000</td>\n",
       "    </tr>\n",
       "    <tr>\n",
       "      <th>25%</th>\n",
       "      <td>28.000000</td>\n",
       "      <td>420.000000</td>\n",
       "      <td>0.000000</td>\n",
       "    </tr>\n",
       "    <tr>\n",
       "      <th>50%</th>\n",
       "      <td>42.000000</td>\n",
       "      <td>520.000000</td>\n",
       "      <td>1.000000</td>\n",
       "    </tr>\n",
       "    <tr>\n",
       "      <th>75%</th>\n",
       "      <td>57.000000</td>\n",
       "      <td>826.000000</td>\n",
       "      <td>2.000000</td>\n",
       "    </tr>\n",
       "    <tr>\n",
       "      <th>max</th>\n",
       "      <td>84.000000</td>\n",
       "      <td>1399.000000</td>\n",
       "      <td>4.000000</td>\n",
       "    </tr>\n",
       "  </tbody>\n",
       "</table>\n",
       "</div>"
      ],
      "text/plain": [
       "                 age           taux  nbEnfantsAcharge\n",
       "count  100000.000000  100000.000000     100000.000000\n",
       "mean       43.729990     607.630170          1.244660\n",
       "std        18.337916     335.974983          1.387278\n",
       "min        -1.000000      -1.000000         -1.000000\n",
       "25%        28.000000     420.000000          0.000000\n",
       "50%        42.000000     520.000000          1.000000\n",
       "75%        57.000000     826.000000          2.000000\n",
       "max        84.000000    1399.000000          4.000000"
      ]
     },
     "execution_count": 120,
     "metadata": {},
     "output_type": "execute_result"
    }
   ],
   "source": [
    "clients_imputed.describe()"
   ]
  },
  {
   "cell_type": "markdown",
   "metadata": {},
   "source": [
    "#### B-Supprimer les lignes avec des valeurs manquantes"
   ]
  },
  {
   "cell_type": "code",
   "execution_count": 121,
   "metadata": {},
   "outputs": [
    {
     "name": "stdout",
     "output_type": "stream",
     "text": [
      "age                   0.193\n",
      "sexe                  0.291\n",
      "taux                  0.194\n",
      "situationFamiliale    0.319\n",
      "nbEnfantsAcharge      0.200\n",
      "2eme voiture          0.220\n",
      "immatriculation       0.000\n",
      "dtype: float64\n"
     ]
    }
   ],
   "source": [
    "# Pourcentage de valeurs manquantes\n",
    "print(clients.isnull().sum() / len(clients) * 100)  "
   ]
  },
  {
   "cell_type": "code",
   "execution_count": 122,
   "metadata": {},
   "outputs": [
    {
     "name": "stdout",
     "output_type": "stream",
     "text": [
      "age                   0\n",
      "sexe                  0\n",
      "taux                  0\n",
      "situationFamiliale    0\n",
      "nbEnfantsAcharge      0\n",
      "2eme voiture          0\n",
      "immatriculation       0\n",
      "dtype: int64\n"
     ]
    }
   ],
   "source": [
    "# Suppression des lignes avec des valeurs manquantes\n",
    "clients_dropped = clients_dropped.dropna()\n",
    "\n",
    "# Vérification des valeurs manquantes dans le nouveau dataframe\n",
    "print(clients_dropped.isnull().sum())\n"
   ]
  },
  {
   "cell_type": "markdown",
   "metadata": {},
   "source": [
    "### Sauvegarde des données nettoyées"
   ]
  },
  {
   "cell_type": "code",
   "execution_count": 123,
   "metadata": {},
   "outputs": [
    {
     "name": "stdout",
     "output_type": "stream",
     "text": [
      "\n",
      "Données nettoyées sauvegardées dans 'clients_cleaned.csv'\n"
     ]
    }
   ],
   "source": [
    "# J'utilise le dataframe clients_imputed pour le premier essai\n",
    "clients_imputed.to_csv('../data/processed/clients_cleaned.csv', index=False)\n",
    "print(\"\\nDonnées nettoyées sauvegardées dans 'clients_cleaned.csv'\")"
   ]
  },
  {
   "cell_type": "markdown",
   "metadata": {},
   "source": [
    "# Nettoyage des données pour Catalogue"
   ]
  },
  {
   "cell_type": "code",
   "execution_count": 124,
   "metadata": {},
   "outputs": [
    {
     "name": "stdout",
     "output_type": "stream",
     "text": [
      "Aperçu des données brutes:\n"
     ]
    },
    {
     "data": {
      "text/html": [
       "<div>\n",
       "<style scoped>\n",
       "    .dataframe tbody tr th:only-of-type {\n",
       "        vertical-align: middle;\n",
       "    }\n",
       "\n",
       "    .dataframe tbody tr th {\n",
       "        vertical-align: top;\n",
       "    }\n",
       "\n",
       "    .dataframe thead th {\n",
       "        text-align: right;\n",
       "    }\n",
       "</style>\n",
       "<table border=\"1\" class=\"dataframe\">\n",
       "  <thead>\n",
       "    <tr style=\"text-align: right;\">\n",
       "      <th></th>\n",
       "      <th>marque</th>\n",
       "      <th>nom</th>\n",
       "      <th>puissance</th>\n",
       "      <th>longueur</th>\n",
       "      <th>nbPlaces</th>\n",
       "      <th>nbPortes</th>\n",
       "      <th>couleur</th>\n",
       "      <th>occasion</th>\n",
       "      <th>prix</th>\n",
       "    </tr>\n",
       "  </thead>\n",
       "  <tbody>\n",
       "    <tr>\n",
       "      <th>0</th>\n",
       "      <td>Volvo</td>\n",
       "      <td>S80 T6</td>\n",
       "      <td>272</td>\n",
       "      <td>très longue</td>\n",
       "      <td>5</td>\n",
       "      <td>5</td>\n",
       "      <td>blanc</td>\n",
       "      <td>False</td>\n",
       "      <td>50500</td>\n",
       "    </tr>\n",
       "    <tr>\n",
       "      <th>1</th>\n",
       "      <td>Volvo</td>\n",
       "      <td>S80 T6</td>\n",
       "      <td>272</td>\n",
       "      <td>très longue</td>\n",
       "      <td>5</td>\n",
       "      <td>5</td>\n",
       "      <td>noir</td>\n",
       "      <td>False</td>\n",
       "      <td>50500</td>\n",
       "    </tr>\n",
       "    <tr>\n",
       "      <th>2</th>\n",
       "      <td>Volvo</td>\n",
       "      <td>S80 T6</td>\n",
       "      <td>272</td>\n",
       "      <td>très longue</td>\n",
       "      <td>5</td>\n",
       "      <td>5</td>\n",
       "      <td>rouge</td>\n",
       "      <td>False</td>\n",
       "      <td>50500</td>\n",
       "    </tr>\n",
       "    <tr>\n",
       "      <th>3</th>\n",
       "      <td>Volvo</td>\n",
       "      <td>S80 T6</td>\n",
       "      <td>272</td>\n",
       "      <td>très longue</td>\n",
       "      <td>5</td>\n",
       "      <td>5</td>\n",
       "      <td>gris</td>\n",
       "      <td>True</td>\n",
       "      <td>35350</td>\n",
       "    </tr>\n",
       "    <tr>\n",
       "      <th>4</th>\n",
       "      <td>Volvo</td>\n",
       "      <td>S80 T6</td>\n",
       "      <td>272</td>\n",
       "      <td>très longue</td>\n",
       "      <td>5</td>\n",
       "      <td>5</td>\n",
       "      <td>bleu</td>\n",
       "      <td>True</td>\n",
       "      <td>35350</td>\n",
       "    </tr>\n",
       "  </tbody>\n",
       "</table>\n",
       "</div>"
      ],
      "text/plain": [
       "  marque     nom  puissance     longueur  nbPlaces  nbPortes couleur  \\\n",
       "0  Volvo  S80 T6        272  très longue         5         5   blanc   \n",
       "1  Volvo  S80 T6        272  très longue         5         5    noir   \n",
       "2  Volvo  S80 T6        272  très longue         5         5   rouge   \n",
       "3  Volvo  S80 T6        272  très longue         5         5    gris   \n",
       "4  Volvo  S80 T6        272  très longue         5         5    bleu   \n",
       "\n",
       "   occasion   prix  \n",
       "0     False  50500  \n",
       "1     False  50500  \n",
       "2     False  50500  \n",
       "3      True  35350  \n",
       "4      True  35350  "
      ]
     },
     "execution_count": 124,
     "metadata": {},
     "output_type": "execute_result"
    }
   ],
   "source": [
    "# Affichage des premières lignes\n",
    "print(\"Aperçu des données brutes:\")\n",
    "catalogue.head()"
   ]
  },
  {
   "cell_type": "code",
   "execution_count": 125,
   "metadata": {},
   "outputs": [],
   "source": [
    "# Remplacer les valeurs incorrectes (erreurs de saisie) par NaN\n",
    "catalogue.replace(['?', 'N/D', ' '], pd.NA, inplace=True)"
   ]
  },
  {
   "cell_type": "code",
   "execution_count": 126,
   "metadata": {},
   "outputs": [
    {
     "name": "stdout",
     "output_type": "stream",
     "text": [
      "\n",
      "Informations sur les données:\n",
      "<class 'pandas.core.frame.DataFrame'>\n",
      "RangeIndex: 270 entries, 0 to 269\n",
      "Data columns (total 9 columns):\n",
      " #   Column     Non-Null Count  Dtype \n",
      "---  ------     --------------  ----- \n",
      " 0   marque     270 non-null    object\n",
      " 1   nom        270 non-null    object\n",
      " 2   puissance  270 non-null    int64 \n",
      " 3   longueur   270 non-null    object\n",
      " 4   nbPlaces   270 non-null    int64 \n",
      " 5   nbPortes   270 non-null    int64 \n",
      " 6   couleur    270 non-null    object\n",
      " 7   occasion   270 non-null    bool  \n",
      " 8   prix       270 non-null    int64 \n",
      "dtypes: bool(1), int64(4), object(4)\n",
      "memory usage: 17.3+ KB\n",
      "\n",
      "Valeurs manquantes par colonne:\n"
     ]
    },
    {
     "data": {
      "text/plain": [
       "marque       0\n",
       "nom          0\n",
       "puissance    0\n",
       "longueur     0\n",
       "nbPlaces     0\n",
       "nbPortes     0\n",
       "couleur      0\n",
       "occasion     0\n",
       "prix         0\n",
       "dtype: int64"
      ]
     },
     "execution_count": 126,
     "metadata": {},
     "output_type": "execute_result"
    }
   ],
   "source": [
    "# Vérification des types de données et des valeurs manquantes\n",
    "print(\"\\nInformations sur les données:\")\n",
    "catalogue.info()\n",
    "print(\"\\nValeurs manquantes par colonne:\")\n",
    "catalogue.isnull().sum()"
   ]
  },
  {
   "cell_type": "code",
   "execution_count": 127,
   "metadata": {},
   "outputs": [
    {
     "name": "stdout",
     "output_type": "stream",
     "text": [
      "\n",
      "Nombre de doublons : 0\n"
     ]
    }
   ],
   "source": [
    "# Recherche des doublons\n",
    "duplicates = catalogue.duplicated().sum()\n",
    "print(f\"\\nNombre de doublons : {duplicates}\")"
   ]
  },
  {
   "cell_type": "code",
   "execution_count": 128,
   "metadata": {},
   "outputs": [
    {
     "name": "stdout",
     "output_type": "stream",
     "text": [
      "marque\n",
      "Volkswagen    40\n",
      "Renault       40\n",
      "BMW           20\n",
      "Mercedes      20\n",
      "Audi          20\n",
      "Nissan        15\n",
      "Jaguar        10\n",
      "Saab          10\n",
      "Volvo         10\n",
      "Fiat          10\n",
      "Lancia        10\n",
      "Mini          10\n",
      "Peugeot       10\n",
      "Ford          10\n",
      "Skoda          5\n",
      "Seat           5\n",
      "Kia            5\n",
      "Hyundaï        5\n",
      "Honda          5\n",
      "Dacia          5\n",
      "Daihatsu       5\n",
      "Name: count, dtype: int64\n",
      "\n",
      "nom\n",
      "S80 T6              10\n",
      "Touran 2.0 FSI      10\n",
      "Polo 1.2 6V         10\n",
      "New Beatle 1.8      10\n",
      "Golf 2.0 FSI        10\n",
      "9.3 1.8T            10\n",
      "Megane 2.0 16V      10\n",
      "Vel Satis 3.5 V6    10\n",
      "1007 1.4            10\n",
      "Espace 2.0T         10\n",
      "Laguna 2.0T         10\n",
      "X-Type 2.5 V6       10\n",
      "Ypsilon 1.4 16V     10\n",
      "A200                10\n",
      "S500                10\n",
      "Copper 1.6 16V      10\n",
      "A3 2.0 FSI          10\n",
      "A2 1.4              10\n",
      "M5                  10\n",
      "Mondeo 1.8          10\n",
      "Croma 2.2           10\n",
      "120i                10\n",
      "Superb 2.8 V6        5\n",
      "Toledo 1.6           5\n",
      "Almera 1.8           5\n",
      "Maxima 3.0 V6        5\n",
      "Primera 1.6          5\n",
      "Picanto 1.1          5\n",
      "FR-V 1.7             5\n",
      "Matrix 1.6           5\n",
      "Logan 1.6 MPI        5\n",
      "Cuore 1.0            5\n",
      "Name: count, dtype: int64\n",
      "\n",
      "longueur\n",
      "longue         90\n",
      "moyenne        70\n",
      "courte         60\n",
      "très longue    50\n",
      "Name: count, dtype: int64\n",
      "\n",
      "couleur\n",
      "blanc    54\n",
      "noir     54\n",
      "rouge    54\n",
      "gris     54\n",
      "bleu     54\n",
      "Name: count, dtype: int64\n",
      "\n"
     ]
    }
   ],
   "source": [
    "# Compter les occurrences pour chaque colonne de type 'object'\n",
    "for col in catalogue.columns:\n",
    "    if catalogue[col].dtype == 'object':\n",
    "        print(catalogue[col].value_counts())\n",
    "        print()"
   ]
  },
  {
   "cell_type": "code",
   "execution_count": 129,
   "metadata": {},
   "outputs": [
    {
     "data": {
      "text/html": [
       "<div>\n",
       "<style scoped>\n",
       "    .dataframe tbody tr th:only-of-type {\n",
       "        vertical-align: middle;\n",
       "    }\n",
       "\n",
       "    .dataframe tbody tr th {\n",
       "        vertical-align: top;\n",
       "    }\n",
       "\n",
       "    .dataframe thead th {\n",
       "        text-align: right;\n",
       "    }\n",
       "</style>\n",
       "<table border=\"1\" class=\"dataframe\">\n",
       "  <thead>\n",
       "    <tr style=\"text-align: right;\">\n",
       "      <th></th>\n",
       "      <th>marque</th>\n",
       "      <th>nom</th>\n",
       "      <th>longueur</th>\n",
       "      <th>couleur</th>\n",
       "    </tr>\n",
       "  </thead>\n",
       "  <tbody>\n",
       "    <tr>\n",
       "      <th>count</th>\n",
       "      <td>270</td>\n",
       "      <td>270</td>\n",
       "      <td>270</td>\n",
       "      <td>270</td>\n",
       "    </tr>\n",
       "    <tr>\n",
       "      <th>unique</th>\n",
       "      <td>21</td>\n",
       "      <td>32</td>\n",
       "      <td>4</td>\n",
       "      <td>5</td>\n",
       "    </tr>\n",
       "    <tr>\n",
       "      <th>top</th>\n",
       "      <td>Volkswagen</td>\n",
       "      <td>S80 T6</td>\n",
       "      <td>longue</td>\n",
       "      <td>blanc</td>\n",
       "    </tr>\n",
       "    <tr>\n",
       "      <th>freq</th>\n",
       "      <td>40</td>\n",
       "      <td>10</td>\n",
       "      <td>90</td>\n",
       "      <td>54</td>\n",
       "    </tr>\n",
       "  </tbody>\n",
       "</table>\n",
       "</div>"
      ],
      "text/plain": [
       "            marque     nom longueur couleur\n",
       "count          270     270      270     270\n",
       "unique          21      32        4       5\n",
       "top     Volkswagen  S80 T6   longue   blanc\n",
       "freq            40      10       90      54"
      ]
     },
     "execution_count": 129,
     "metadata": {},
     "output_type": "execute_result"
    }
   ],
   "source": [
    "catalogue.describe(include='object')"
   ]
  },
  {
   "cell_type": "code",
   "execution_count": 130,
   "metadata": {},
   "outputs": [
    {
     "data": {
      "text/html": [
       "<div>\n",
       "<style scoped>\n",
       "    .dataframe tbody tr th:only-of-type {\n",
       "        vertical-align: middle;\n",
       "    }\n",
       "\n",
       "    .dataframe tbody tr th {\n",
       "        vertical-align: top;\n",
       "    }\n",
       "\n",
       "    .dataframe thead th {\n",
       "        text-align: right;\n",
       "    }\n",
       "</style>\n",
       "<table border=\"1\" class=\"dataframe\">\n",
       "  <thead>\n",
       "    <tr style=\"text-align: right;\">\n",
       "      <th></th>\n",
       "      <th>puissance</th>\n",
       "      <th>nbPlaces</th>\n",
       "      <th>nbPortes</th>\n",
       "      <th>prix</th>\n",
       "    </tr>\n",
       "  </thead>\n",
       "  <tbody>\n",
       "    <tr>\n",
       "      <th>count</th>\n",
       "      <td>270.000000</td>\n",
       "      <td>270.000000</td>\n",
       "      <td>270.000000</td>\n",
       "      <td>270.000000</td>\n",
       "    </tr>\n",
       "    <tr>\n",
       "      <th>mean</th>\n",
       "      <td>157.592593</td>\n",
       "      <td>5.222222</td>\n",
       "      <td>4.814815</td>\n",
       "      <td>26668.055556</td>\n",
       "    </tr>\n",
       "    <tr>\n",
       "      <th>std</th>\n",
       "      <td>90.551289</td>\n",
       "      <td>0.629707</td>\n",
       "      <td>0.580798</td>\n",
       "      <td>19050.121112</td>\n",
       "    </tr>\n",
       "    <tr>\n",
       "      <th>min</th>\n",
       "      <td>55.000000</td>\n",
       "      <td>5.000000</td>\n",
       "      <td>3.000000</td>\n",
       "      <td>7500.000000</td>\n",
       "    </tr>\n",
       "    <tr>\n",
       "      <th>25%</th>\n",
       "      <td>109.000000</td>\n",
       "      <td>5.000000</td>\n",
       "      <td>5.000000</td>\n",
       "      <td>16029.000000</td>\n",
       "    </tr>\n",
       "    <tr>\n",
       "      <th>50%</th>\n",
       "      <td>147.000000</td>\n",
       "      <td>5.000000</td>\n",
       "      <td>5.000000</td>\n",
       "      <td>20597.500000</td>\n",
       "    </tr>\n",
       "    <tr>\n",
       "      <th>75%</th>\n",
       "      <td>170.000000</td>\n",
       "      <td>5.000000</td>\n",
       "      <td>5.000000</td>\n",
       "      <td>30000.000000</td>\n",
       "    </tr>\n",
       "    <tr>\n",
       "      <th>max</th>\n",
       "      <td>507.000000</td>\n",
       "      <td>7.000000</td>\n",
       "      <td>5.000000</td>\n",
       "      <td>101300.000000</td>\n",
       "    </tr>\n",
       "  </tbody>\n",
       "</table>\n",
       "</div>"
      ],
      "text/plain": [
       "        puissance    nbPlaces    nbPortes           prix\n",
       "count  270.000000  270.000000  270.000000     270.000000\n",
       "mean   157.592593    5.222222    4.814815   26668.055556\n",
       "std     90.551289    0.629707    0.580798   19050.121112\n",
       "min     55.000000    5.000000    3.000000    7500.000000\n",
       "25%    109.000000    5.000000    5.000000   16029.000000\n",
       "50%    147.000000    5.000000    5.000000   20597.500000\n",
       "75%    170.000000    5.000000    5.000000   30000.000000\n",
       "max    507.000000    7.000000    5.000000  101300.000000"
      ]
     },
     "execution_count": 130,
     "metadata": {},
     "output_type": "execute_result"
    }
   ],
   "source": [
    "catalogue.describe()"
   ]
  },
  {
   "cell_type": "markdown",
   "metadata": {},
   "source": [
    "### Sauvegarde des données nettoyées"
   ]
  },
  {
   "cell_type": "code",
   "execution_count": 131,
   "metadata": {},
   "outputs": [
    {
     "name": "stdout",
     "output_type": "stream",
     "text": [
      "\n",
      "Données nettoyées sauvegardées dans 'catalogue_cleaned.csv'\n"
     ]
    }
   ],
   "source": [
    "catalogue.to_csv('../data/processed/catalogue_cleaned.csv', index=False)\n",
    "print(\"\\nDonnées nettoyées sauvegardées dans 'catalogue_cleaned.csv'\")"
   ]
  },
  {
   "cell_type": "markdown",
   "metadata": {},
   "source": [
    "# Nettoyage des données pour Immatriculations"
   ]
  },
  {
   "cell_type": "code",
   "execution_count": 132,
   "metadata": {},
   "outputs": [
    {
     "name": "stdout",
     "output_type": "stream",
     "text": [
      "Aperçu des données brutes:\n"
     ]
    },
    {
     "data": {
      "text/html": [
       "<div>\n",
       "<style scoped>\n",
       "    .dataframe tbody tr th:only-of-type {\n",
       "        vertical-align: middle;\n",
       "    }\n",
       "\n",
       "    .dataframe tbody tr th {\n",
       "        vertical-align: top;\n",
       "    }\n",
       "\n",
       "    .dataframe thead th {\n",
       "        text-align: right;\n",
       "    }\n",
       "</style>\n",
       "<table border=\"1\" class=\"dataframe\">\n",
       "  <thead>\n",
       "    <tr style=\"text-align: right;\">\n",
       "      <th></th>\n",
       "      <th>immatriculation</th>\n",
       "      <th>marque</th>\n",
       "      <th>nom</th>\n",
       "      <th>puissance</th>\n",
       "      <th>longueur</th>\n",
       "      <th>nbPlaces</th>\n",
       "      <th>nbPortes</th>\n",
       "      <th>couleur</th>\n",
       "      <th>occasion</th>\n",
       "      <th>prix</th>\n",
       "    </tr>\n",
       "  </thead>\n",
       "  <tbody>\n",
       "    <tr>\n",
       "      <th>0</th>\n",
       "      <td>3467 SB 72</td>\n",
       "      <td>Seat</td>\n",
       "      <td>Toledo 1.6</td>\n",
       "      <td>102</td>\n",
       "      <td>longue</td>\n",
       "      <td>5</td>\n",
       "      <td>5</td>\n",
       "      <td>bleu</td>\n",
       "      <td>False</td>\n",
       "      <td>18880</td>\n",
       "    </tr>\n",
       "    <tr>\n",
       "      <th>1</th>\n",
       "      <td>113 LY 42</td>\n",
       "      <td>Renault</td>\n",
       "      <td>Vel Satis 3.5 V6</td>\n",
       "      <td>245</td>\n",
       "      <td>très longue</td>\n",
       "      <td>5</td>\n",
       "      <td>5</td>\n",
       "      <td>noir</td>\n",
       "      <td>False</td>\n",
       "      <td>49200</td>\n",
       "    </tr>\n",
       "    <tr>\n",
       "      <th>2</th>\n",
       "      <td>925 WK 87</td>\n",
       "      <td>Jaguar</td>\n",
       "      <td>X-Type 2.5 V6</td>\n",
       "      <td>197</td>\n",
       "      <td>longue</td>\n",
       "      <td>5</td>\n",
       "      <td>5</td>\n",
       "      <td>blanc</td>\n",
       "      <td>False</td>\n",
       "      <td>37100</td>\n",
       "    </tr>\n",
       "    <tr>\n",
       "      <th>3</th>\n",
       "      <td>3279 RV 81</td>\n",
       "      <td>Renault</td>\n",
       "      <td>Laguna 2.0T</td>\n",
       "      <td>170</td>\n",
       "      <td>longue</td>\n",
       "      <td>5</td>\n",
       "      <td>5</td>\n",
       "      <td>gris</td>\n",
       "      <td>False</td>\n",
       "      <td>27300</td>\n",
       "    </tr>\n",
       "    <tr>\n",
       "      <th>4</th>\n",
       "      <td>82 RZ 54</td>\n",
       "      <td>Fiat</td>\n",
       "      <td>Croma 2.2</td>\n",
       "      <td>147</td>\n",
       "      <td>longue</td>\n",
       "      <td>5</td>\n",
       "      <td>5</td>\n",
       "      <td>bleu</td>\n",
       "      <td>False</td>\n",
       "      <td>24780</td>\n",
       "    </tr>\n",
       "  </tbody>\n",
       "</table>\n",
       "</div>"
      ],
      "text/plain": [
       "  immatriculation   marque               nom  puissance     longueur  \\\n",
       "0      3467 SB 72     Seat        Toledo 1.6        102       longue   \n",
       "1       113 LY 42  Renault  Vel Satis 3.5 V6        245  très longue   \n",
       "2       925 WK 87   Jaguar     X-Type 2.5 V6        197       longue   \n",
       "3      3279 RV 81  Renault       Laguna 2.0T        170       longue   \n",
       "4        82 RZ 54     Fiat         Croma 2.2        147       longue   \n",
       "\n",
       "   nbPlaces  nbPortes couleur  occasion   prix  \n",
       "0         5         5    bleu     False  18880  \n",
       "1         5         5    noir     False  49200  \n",
       "2         5         5   blanc     False  37100  \n",
       "3         5         5    gris     False  27300  \n",
       "4         5         5    bleu     False  24780  "
      ]
     },
     "execution_count": 132,
     "metadata": {},
     "output_type": "execute_result"
    }
   ],
   "source": [
    "# Affichage des premières lignes\n",
    "print(\"Aperçu des données brutes:\")\n",
    "immatriculations.head()"
   ]
  },
  {
   "cell_type": "code",
   "execution_count": 133,
   "metadata": {},
   "outputs": [],
   "source": [
    "# Remplacer les valeurs incorrectes (erreurs de saisie) par NaN\n",
    "immatriculations.replace(['?', 'N/D', ' '], pd.NA, inplace=True)"
   ]
  },
  {
   "cell_type": "code",
   "execution_count": 134,
   "metadata": {},
   "outputs": [
    {
     "name": "stdout",
     "output_type": "stream",
     "text": [
      "\n",
      "Informations sur les données:\n",
      "<class 'pandas.core.frame.DataFrame'>\n",
      "RangeIndex: 99989 entries, 0 to 99988\n",
      "Data columns (total 10 columns):\n",
      " #   Column           Non-Null Count  Dtype \n",
      "---  ------           --------------  ----- \n",
      " 0   immatriculation  99989 non-null  object\n",
      " 1   marque           99989 non-null  object\n",
      " 2   nom              99989 non-null  object\n",
      " 3   puissance        99989 non-null  int64 \n",
      " 4   longueur         99989 non-null  object\n",
      " 5   nbPlaces         99989 non-null  int64 \n",
      " 6   nbPortes         99989 non-null  int64 \n",
      " 7   couleur          99989 non-null  object\n",
      " 8   occasion         99989 non-null  bool  \n",
      " 9   prix             99989 non-null  int64 \n",
      "dtypes: bool(1), int64(4), object(5)\n",
      "memory usage: 7.0+ MB\n",
      "\n",
      "Valeurs manquantes par colonne:\n"
     ]
    },
    {
     "data": {
      "text/plain": [
       "immatriculation    0\n",
       "marque             0\n",
       "nom                0\n",
       "puissance          0\n",
       "longueur           0\n",
       "nbPlaces           0\n",
       "nbPortes           0\n",
       "couleur            0\n",
       "occasion           0\n",
       "prix               0\n",
       "dtype: int64"
      ]
     },
     "execution_count": 134,
     "metadata": {},
     "output_type": "execute_result"
    }
   ],
   "source": [
    "# Vérification des types de données et des valeurs manquantes\n",
    "print(\"\\nInformations sur les données:\")\n",
    "immatriculations.info()\n",
    "print(\"\\nValeurs manquantes par colonne:\")\n",
    "immatriculations.isnull().sum()"
   ]
  },
  {
   "cell_type": "code",
   "execution_count": 135,
   "metadata": {},
   "outputs": [
    {
     "name": "stdout",
     "output_type": "stream",
     "text": [
      "immatriculation\n",
      "4656 EJ 74    1\n",
      "3467 SB 72    1\n",
      "113 LY 42     1\n",
      "925 WK 87     1\n",
      "3279 RV 81    1\n",
      "             ..\n",
      "9896 TW 50    1\n",
      "6484 MS 45    1\n",
      "3696 JS 92    1\n",
      "9339 BW 87    1\n",
      "8290 SD 41    1\n",
      "Name: count, Length: 99989, dtype: int64\n",
      "\n",
      "marque\n",
      "Audi          14668\n",
      "BMW           14529\n",
      "Renault       12449\n",
      "Jaguar         9418\n",
      "Volkswagen     7867\n",
      "Mercedes       7541\n",
      "Volvo          6369\n",
      "Peugeot        4852\n",
      "Saab           4282\n",
      "Fiat           3796\n",
      "Ford           3767\n",
      "Nissan         3378\n",
      "Skoda          1634\n",
      "Kia            1154\n",
      "Daihatsu       1097\n",
      "Seat           1094\n",
      "Mini            811\n",
      "Dacia           696\n",
      "Lancia          587\n",
      "Name: count, dtype: int64\n",
      "\n",
      "nom\n",
      "A2 1.4              14268\n",
      "M5                  12660\n",
      "X-Type 2.5 V6        9418\n",
      "S80 T6               6369\n",
      "Vel Satis 3.5 V6     6101\n",
      "S500                 5256\n",
      "Polo 1.2 6V          4883\n",
      "1007 1.4             4852\n",
      "9.3 1.8T             4282\n",
      "Croma 2.2            3796\n",
      "Laguna 2.0T          3786\n",
      "Mondeo 1.8           3767\n",
      "Golf 2.0 FSI         2634\n",
      "Megane 2.0 16V       2562\n",
      "A200                 2285\n",
      "120i                 1869\n",
      "Maxima 3.0 V6        1647\n",
      "Superb 2.8 V6        1634\n",
      "Picanto 1.1          1154\n",
      "Cuore 1.0            1097\n",
      "Toledo 1.6           1094\n",
      "Primera 1.6          1035\n",
      "Copper 1.6 16V        811\n",
      "Logan 1.6 MPI         696\n",
      "Almera 1.8            696\n",
      "Ypsilon 1.4 16V       587\n",
      "A3 2.0 FSI            400\n",
      "New Beatle 1.8        350\n",
      "Name: count, dtype: int64\n",
      "\n",
      "longueur\n",
      "très longue    33667\n",
      "courte         27652\n",
      "longue         27178\n",
      "moyenne        11492\n",
      "Name: count, dtype: int64\n",
      "\n",
      "couleur\n",
      "bleu     20085\n",
      "noir     20036\n",
      "gris     20033\n",
      "blanc    19984\n",
      "rouge    19851\n",
      "Name: count, dtype: int64\n",
      "\n"
     ]
    }
   ],
   "source": [
    "# Compter les occurrences pour chaque colonne de type 'object'\n",
    "for col in immatriculations.columns:\n",
    "    if immatriculations[col].dtype == 'object':\n",
    "        print(immatriculations[col].value_counts())\n",
    "        print()"
   ]
  },
  {
   "cell_type": "code",
   "execution_count": 136,
   "metadata": {},
   "outputs": [
    {
     "data": {
      "text/html": [
       "<div>\n",
       "<style scoped>\n",
       "    .dataframe tbody tr th:only-of-type {\n",
       "        vertical-align: middle;\n",
       "    }\n",
       "\n",
       "    .dataframe tbody tr th {\n",
       "        vertical-align: top;\n",
       "    }\n",
       "\n",
       "    .dataframe thead th {\n",
       "        text-align: right;\n",
       "    }\n",
       "</style>\n",
       "<table border=\"1\" class=\"dataframe\">\n",
       "  <thead>\n",
       "    <tr style=\"text-align: right;\">\n",
       "      <th></th>\n",
       "      <th>puissance</th>\n",
       "      <th>nbPlaces</th>\n",
       "      <th>nbPortes</th>\n",
       "      <th>prix</th>\n",
       "    </tr>\n",
       "  </thead>\n",
       "  <tbody>\n",
       "    <tr>\n",
       "      <th>count</th>\n",
       "      <td>99989.000000</td>\n",
       "      <td>99989.0</td>\n",
       "      <td>99989.000000</td>\n",
       "      <td>99989.000000</td>\n",
       "    </tr>\n",
       "    <tr>\n",
       "      <th>mean</th>\n",
       "      <td>198.561272</td>\n",
       "      <td>5.0</td>\n",
       "      <td>4.868646</td>\n",
       "      <td>35730.097251</td>\n",
       "    </tr>\n",
       "    <tr>\n",
       "      <th>std</th>\n",
       "      <td>136.715032</td>\n",
       "      <td>0.0</td>\n",
       "      <td>0.495437</td>\n",
       "      <td>25769.478289</td>\n",
       "    </tr>\n",
       "    <tr>\n",
       "      <th>min</th>\n",
       "      <td>55.000000</td>\n",
       "      <td>5.0</td>\n",
       "      <td>3.000000</td>\n",
       "      <td>7500.000000</td>\n",
       "    </tr>\n",
       "    <tr>\n",
       "      <th>25%</th>\n",
       "      <td>75.000000</td>\n",
       "      <td>5.0</td>\n",
       "      <td>5.000000</td>\n",
       "      <td>18310.000000</td>\n",
       "    </tr>\n",
       "    <tr>\n",
       "      <th>50%</th>\n",
       "      <td>150.000000</td>\n",
       "      <td>5.0</td>\n",
       "      <td>5.000000</td>\n",
       "      <td>25970.000000</td>\n",
       "    </tr>\n",
       "    <tr>\n",
       "      <th>75%</th>\n",
       "      <td>245.000000</td>\n",
       "      <td>5.0</td>\n",
       "      <td>5.000000</td>\n",
       "      <td>49200.000000</td>\n",
       "    </tr>\n",
       "    <tr>\n",
       "      <th>max</th>\n",
       "      <td>507.000000</td>\n",
       "      <td>5.0</td>\n",
       "      <td>5.000000</td>\n",
       "      <td>101300.000000</td>\n",
       "    </tr>\n",
       "  </tbody>\n",
       "</table>\n",
       "</div>"
      ],
      "text/plain": [
       "          puissance  nbPlaces      nbPortes           prix\n",
       "count  99989.000000   99989.0  99989.000000   99989.000000\n",
       "mean     198.561272       5.0      4.868646   35730.097251\n",
       "std      136.715032       0.0      0.495437   25769.478289\n",
       "min       55.000000       5.0      3.000000    7500.000000\n",
       "25%       75.000000       5.0      5.000000   18310.000000\n",
       "50%      150.000000       5.0      5.000000   25970.000000\n",
       "75%      245.000000       5.0      5.000000   49200.000000\n",
       "max      507.000000       5.0      5.000000  101300.000000"
      ]
     },
     "execution_count": 136,
     "metadata": {},
     "output_type": "execute_result"
    }
   ],
   "source": [
    "immatriculations.describe()"
   ]
  },
  {
   "cell_type": "code",
   "execution_count": 137,
   "metadata": {},
   "outputs": [
    {
     "data": {
      "text/html": [
       "<div>\n",
       "<style scoped>\n",
       "    .dataframe tbody tr th:only-of-type {\n",
       "        vertical-align: middle;\n",
       "    }\n",
       "\n",
       "    .dataframe tbody tr th {\n",
       "        vertical-align: top;\n",
       "    }\n",
       "\n",
       "    .dataframe thead th {\n",
       "        text-align: right;\n",
       "    }\n",
       "</style>\n",
       "<table border=\"1\" class=\"dataframe\">\n",
       "  <thead>\n",
       "    <tr style=\"text-align: right;\">\n",
       "      <th></th>\n",
       "      <th>immatriculation</th>\n",
       "      <th>marque</th>\n",
       "      <th>nom</th>\n",
       "      <th>longueur</th>\n",
       "      <th>couleur</th>\n",
       "    </tr>\n",
       "  </thead>\n",
       "  <tbody>\n",
       "    <tr>\n",
       "      <th>count</th>\n",
       "      <td>99989</td>\n",
       "      <td>99989</td>\n",
       "      <td>99989</td>\n",
       "      <td>99989</td>\n",
       "      <td>99989</td>\n",
       "    </tr>\n",
       "    <tr>\n",
       "      <th>unique</th>\n",
       "      <td>99989</td>\n",
       "      <td>19</td>\n",
       "      <td>28</td>\n",
       "      <td>4</td>\n",
       "      <td>5</td>\n",
       "    </tr>\n",
       "    <tr>\n",
       "      <th>top</th>\n",
       "      <td>4656 EJ 74</td>\n",
       "      <td>Audi</td>\n",
       "      <td>A2 1.4</td>\n",
       "      <td>très longue</td>\n",
       "      <td>bleu</td>\n",
       "    </tr>\n",
       "    <tr>\n",
       "      <th>freq</th>\n",
       "      <td>1</td>\n",
       "      <td>14668</td>\n",
       "      <td>14268</td>\n",
       "      <td>33667</td>\n",
       "      <td>20085</td>\n",
       "    </tr>\n",
       "  </tbody>\n",
       "</table>\n",
       "</div>"
      ],
      "text/plain": [
       "       immatriculation marque     nom     longueur couleur\n",
       "count            99989  99989   99989        99989   99989\n",
       "unique           99989     19      28            4       5\n",
       "top         4656 EJ 74   Audi  A2 1.4  très longue    bleu\n",
       "freq                 1  14668   14268        33667   20085"
      ]
     },
     "execution_count": 137,
     "metadata": {},
     "output_type": "execute_result"
    }
   ],
   "source": [
    "immatriculations.describe(include='object')"
   ]
  },
  {
   "cell_type": "markdown",
   "metadata": {},
   "source": [
    "### Sauvegarde des données nettoyées"
   ]
  },
  {
   "cell_type": "code",
   "execution_count": 138,
   "metadata": {},
   "outputs": [
    {
     "name": "stdout",
     "output_type": "stream",
     "text": [
      "\n",
      "Données nettoyées sauvegardées dans 'immatriculations_cleaned.csv'\n"
     ]
    }
   ],
   "source": [
    "immatriculations.to_csv('../data/processed/immatriculations_cleaned.csv', index=False)\n",
    "print(\"\\nDonnées nettoyées sauvegardées dans 'immatriculations_cleaned.csv'\")"
   ]
  },
  {
   "cell_type": "code",
   "execution_count": null,
   "metadata": {},
   "outputs": [],
   "source": []
  }
 ],
 "metadata": {
  "kernelspec": {
   "display_name": "DataMiningEnv",
   "language": "python",
   "name": "python3"
  },
  "language_info": {
   "codemirror_mode": {
    "name": "ipython",
    "version": 3
   },
   "file_extension": ".py",
   "mimetype": "text/x-python",
   "name": "python",
   "nbconvert_exporter": "python",
   "pygments_lexer": "ipython3",
   "version": "3.12.4"
  }
 },
 "nbformat": 4,
 "nbformat_minor": 2
}
